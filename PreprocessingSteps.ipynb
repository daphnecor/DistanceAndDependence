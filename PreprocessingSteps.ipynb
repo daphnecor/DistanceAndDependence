{
 "cells": [
  {
   "cell_type": "markdown",
   "metadata": {},
   "source": [
    "## Data preprocessing steps\n",
    "\n",
    "The following steps were performed to preprocess the data, this was done for each of the 15 sessions.\n",
    "\n",
    "The preprocessed and trial-concatenated data was stored. All analyses were done using the saved data."
   ]
  },
  {
   "cell_type": "code",
   "execution_count": 1,
   "metadata": {},
   "outputs": [],
   "source": [
    "'''\n",
    "Dependencies\n",
    "'''\n",
    "# General\n",
    "from sklearn.decomposition import PCA\n",
    "from tqdm.auto import tqdm\n",
    "import scipy.io as sio\n",
    "import pandas as pd\n",
    "import numpy as np\n",
    "import scipy\n",
    "import random\n",
    "import sys\n",
    "import warnings \n",
    "from scipy import stats\n",
    "warnings.simplefilter('ignore')\n",
    "import statsmodels.api as sm\n",
    "from tqdm import tqdm as pbar\n",
    "\n",
    "# Utils and specific functions\n",
    "from pyaldata import * \n",
    "sys.path.insert(0, '..') # rutils is in main folder directory\n",
    "from rutils import *"
   ]
  },
  {
   "cell_type": "code",
   "execution_count": 10,
   "metadata": {},
   "outputs": [],
   "source": [
    "'''\n",
    "Sessions. Note that VR sessions have typically more neurons than CF sessions\n",
    "'''\n",
    "\n",
    "sessions_vr = [\n",
    " 'Chewie_CO_VR_2016-09-09.mat', # File Matt used to generate initial figures\n",
    " 'Chewie_CO_VR_2016-09-12.mat',\n",
    " 'Chewie_CO_VR_2016-09-14.mat',\n",
    " 'Chewie_CO_VR_2016-10-06.mat',\n",
    " 'Mihili_CO_VR_2014-03-03.mat',\n",
    " 'Mihili_CO_VR_2014-03-04.mat',\n",
    " 'Mihili_CO_VR_2014-03-06.mat',\n",
    "]\n",
    "\n",
    "sessions_cf = [\n",
    "    'Chewie_CO_FF_2016-09-15.mat',\n",
    "    'Chewie_CO_FF_2016-09-21.mat',\n",
    "    'Chewie_CO_FF_2016-10-05.mat',\n",
    "    'Chewie_CO_FF_2016-10-07.mat',\n",
    "    'Mihili_CO_FF_2014-02-03.mat',\n",
    "    'Mihili_CO_FF_2014-02-17.mat',\n",
    "    'Mihili_CO_FF_2014-02-18.mat',\n",
    "    'Mihili_CO_FF_2014-03-07.mat'\n",
    "]\n",
    "\n",
    "'''\n",
    "Load electrode maps.\n",
    "'''\n",
    "m1_emap  = localize_elecs(read_cmp(file_path='/Users/Daphne/Data/Chewie Left M1 SN 6250-001474.cmp'), elecs=range(1,97))\n",
    "pmd_emap = localize_elecs(read_cmp(file_path='/Users/Daphne/Data/Chewie Left PMd SN 6251-001469.cmp'), elecs=range(1,97))\n",
    "\n",
    "np.random.seed(2021)\n",
    "\n",
    "# Control number 3: randomize the electrode positions\n",
    "m1_emap_rand = np.random.permutation(m1_emap.flat).reshape(10,10)\n",
    "pmd_emap_rand = np.random.permutation(pmd_emap.flat).reshape(10,10)"
   ]
  },
  {
   "cell_type": "code",
   "execution_count": 13,
   "metadata": {},
   "outputs": [
    {
     "data": {
      "text/plain": [
       "(76, 2)"
      ]
     },
     "execution_count": 13,
     "metadata": {},
     "output_type": "execute_result"
    }
   ],
   "source": [
    "'''\n",
    "Pick a session and load in as pandas dataframe\n",
    "'''\n",
    "\n",
    "session = sessions_cf[0]\n",
    "df = mat2dataframe('/Users/Daphne/Data/' + session, shift_idx_fields=True)\n",
    "s_monkey = session[:1]\n",
    "\n",
    "df['M1_unit_guide'][0]"
   ]
  },
  {
   "cell_type": "code",
   "execution_count": null,
   "metadata": {},
   "outputs": [],
   "source": [
    "import preprocess\n",
    "\n",
    "td ="
   ]
  },
  {
   "cell_type": "markdown",
   "metadata": {},
   "source": [
    "## 1 Preprocess\n",
    "\n",
    "### 1.1 Preprocess spiking data \n",
    "\n",
    "First, we preprocess the trial data. Note that changing the parameters here will influence the results. "
   ]
  },
  {
   "cell_type": "code",
   "execution_count": 5,
   "metadata": {},
   "outputs": [
    {
     "name": "stdout",
     "output_type": "stream",
     "text": [
      "Number of neurons before processing: 92       => After processing: 91 (M1: 26, PMd: 65)\n"
     ]
    }
   ],
   "source": [
    "warnings.filterwarnings('ignore')\n",
    "\n",
    "# Combine bins \n",
    "td = combine_time_bins(df, n_bins=3)\n",
    "\n",
    "# Remove low firing neurons\n",
    "td = remove_low_firing_neurons(td, signal='M1_spikes',  threshold=1)\n",
    "td = remove_low_firing_neurons(td, signal='PMd_spikes', threshold=1)\n",
    "\n",
    "# Sqrt transform neurons\n",
    "td = transform_signal(td, signals='M1_spikes',  transformations='sqrt')\n",
    "td = transform_signal(td, signals='PMd_spikes', transformations='sqrt')\n",
    "\n",
    "# Merge signals\n",
    "td = merge_signals(td, ['M1_spikes', 'PMd_spikes'], 'both_spikes')\n",
    "\n",
    "# Calculate firing rates from spikes, works on '_spikes' fields and automatically divides by bin_size\n",
    "td = add_firing_rates(td, 'smooth', std=0.05)\n",
    "\n",
    "# Select only baseline (BL) trials\n",
    "td = td.loc[td['epoch'] == 'BL']\n",
    "\n",
    "print(f'Number of neurons before processing: {df.M1_spikes[0].shape[1]+ df.PMd_spikes[0].shape[1]} \\\n",
    "      => After processing: {td.M1_spikes[0].shape[1]+ td.PMd_spikes[0].shape[1]} (M1: {td.M1_spikes[0].shape[1]}, PMd: {td.PMd_spikes[0].shape[1]})')"
   ]
  },
  {
   "cell_type": "code",
   "execution_count": 6,
   "metadata": {},
   "outputs": [
    {
     "name": "stdout",
     "output_type": "stream",
     "text": [
      "\n",
      " Selected session: Mihili_CO_FF_2014-03-07.mat \n",
      "\n"
     ]
    }
   ],
   "source": [
    "print(f'\\n Selected session: {session} \\n')"
   ]
  },
  {
   "cell_type": "markdown",
   "metadata": {},
   "source": [
    "### 1.2 Trial-concatenate data \n",
    "\n",
    "Concatenate all trials to get an $N \\times (T \\times P)$ matrix $\\mathbf{X}$"
   ]
  },
  {
   "cell_type": "code",
   "execution_count": 8,
   "metadata": {},
   "outputs": [
    {
     "data": {
      "text/plain": [
       "(91, 33005)"
      ]
     },
     "execution_count": 8,
     "metadata": {},
     "output_type": "execute_result"
    }
   ],
   "source": [
    "# This is the trial-concatenated data on which we will perform dimensionality reduction\n",
    "X_concat = np.concatenate(td['both_rates'].values, axis=0).T\n",
    "\n",
    "X_concat.shape # (neurons x timepoints)"
   ]
  },
  {
   "cell_type": "markdown",
   "metadata": {},
   "source": [
    "This matrix was saved and used for further analyses."
   ]
  }
 ],
 "metadata": {
  "kernelspec": {
   "display_name": "Python 3",
   "language": "python",
   "name": "python3"
  },
  "language_info": {
   "codemirror_mode": {
    "name": "ipython",
    "version": 3
   },
   "file_extension": ".py",
   "mimetype": "text/x-python",
   "name": "python",
   "nbconvert_exporter": "python",
   "pygments_lexer": "ipython3",
   "version": "3.7.4"
  }
 },
 "nbformat": 4,
 "nbformat_minor": 4
}
