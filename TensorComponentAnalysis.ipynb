{
 "cells": [
  {
   "cell_type": "code",
   "execution_count": 1,
   "metadata": {},
   "outputs": [],
   "source": [
    "import tensortools as tt"
   ]
  },
  {
   "cell_type": "code",
   "execution_count": null,
   "metadata": {},
   "outputs": [],
   "source": [
    "''' TODO: see github repo'''\n",
    "\n",
    "data =   # specify a numpy array holding the tensor you wish to fit\n",
    "\n",
    "# Fit an ensemble of models, 4 random replicates / optimization runs per model rank\n",
    "ensemble = tt.Ensemble(fit_method=\"ncp_hals\")\n",
    "ensemble.fit(data, ranks=range(1, 9), replicates=4)\n",
    "\n",
    "fig, axes = plt.subplots(1, 2)\n",
    "tt.plot_objective(ensemble, ax=axes[0])   # plot reconstruction error as a function of num components.\n",
    "tt.plot_similarity(ensemble, ax=axes[1])  # plot model similarity as a function of num components.\n",
    "fig.tight_layout()\n",
    "\n",
    "# Plot the low-d factors for an example model, e.g. rank-2, first optimization run / replicate.\n",
    "num_components = 2\n",
    "replicate = 0\n",
    "tt.plot_factors(ensemble.factors(num_components)[replicate])  # plot the low-d factors\n",
    "\n",
    "plt.show()"
   ]
  }
 ],
 "metadata": {
  "kernelspec": {
   "display_name": "uni",
   "language": "python",
   "name": "uni"
  },
  "language_info": {
   "codemirror_mode": {
    "name": "ipython",
    "version": 3
   },
   "file_extension": ".py",
   "mimetype": "text/x-python",
   "name": "python",
   "nbconvert_exporter": "python",
   "pygments_lexer": "ipython3",
   "version": "3.7.4"
  }
 },
 "nbformat": 4,
 "nbformat_minor": 4
}
