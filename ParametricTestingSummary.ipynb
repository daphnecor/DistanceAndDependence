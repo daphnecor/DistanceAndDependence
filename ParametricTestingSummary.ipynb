{
 "cells": [
  {
   "cell_type": "markdown",
   "metadata": {},
   "source": [
    "## Parametric testing summary plots"
   ]
  },
  {
   "cell_type": "code",
   "execution_count": 5,
   "metadata": {},
   "outputs": [],
   "source": [
    "'''\n",
    "Dependencies\n",
    "'''\n",
    "# General\n",
    "from sklearn.decomposition import PCA\n",
    "from tqdm.auto import tqdm\n",
    "import scipy.io as sio\n",
    "import pandas as pd\n",
    "import numpy as np\n",
    "import scipy\n",
    "import random\n",
    "import sys\n",
    "import warnings \n",
    "from scipy import stats\n",
    "warnings.simplefilter('ignore')\n",
    "from matplotlib.patches import Patch\n",
    "import statsmodels.api as sm\n",
    "from tqdm import tqdm as pbar\n",
    "\n",
    "# Utils and specific functions\n",
    "from pyaldata import * \n",
    "sys.path.insert(0, '..') # rutils is in main folder directory\n",
    "from rutils import *\n",
    "\n",
    "# Plotting\n",
    "from matplotlib.offsetbox import AnchoredText\n",
    "import matplotlib.pyplot as plt\n",
    "import matplotlib as mpl\n",
    "import seaborn as sns\n",
    "\n",
    "sns.set_style('white')\n",
    "cc = ['#416ae6', '#F25346', '#31AD6F', '#7FB8DA', '#6A695B', '#2A3146']\n",
    "plt.rcParams['axes.prop_cycle'] = plt.cycler(color=cc)\n",
    "# green to blue ccycle\n",
    "#plt.rcParams['axes.prop_cycle'] = plt.cycler(color=['#74E6A0', '#5FC49C', '#4AA298', '#348093', '#1F5E8F', '#0A3C8B'])\n",
    "\n",
    "'''\n",
    "Magic commands\n",
    "'''\n",
    "%config InlineBackend.figure_format = 'retina'"
   ]
  },
  {
   "cell_type": "code",
   "execution_count": 6,
   "metadata": {},
   "outputs": [],
   "source": [
    "'''\n",
    "Sessions. Note that VR sessions have typically more neurons than CF sessions\n",
    "'''\n",
    "\n",
    "sessions_C = [\n",
    "    'Chewie_CO_VR_2016-09-09.mat', # File Matt used to generate initial figures\n",
    "    'Chewie_CO_VR_2016-09-12.mat',\n",
    "    'Chewie_CO_VR_2016-09-14.mat',\n",
    "    'Chewie_CO_VR_2016-10-06.mat',\n",
    "    'Chewie_CO_FF_2016-09-15.mat',\n",
    "    'Chewie_CO_FF_2016-09-21.mat',\n",
    "    'Chewie_CO_FF_2016-10-05.mat',\n",
    "    'Chewie_CO_FF_2016-10-07.mat',\n",
    "]\n",
    "\n",
    "sessions_M = [\n",
    "    'Mihili_CO_VR_2014-03-03.mat',\n",
    "    'Mihili_CO_VR_2014-03-04.mat',\n",
    "    'Mihili_CO_VR_2014-03-06.mat',\n",
    "    'Mihili_CO_FF_2014-02-03.mat',\n",
    "    'Mihili_CO_FF_2014-02-17.mat',\n",
    "    'Mihili_CO_FF_2014-02-18.mat',\n",
    "    'Mihili_CO_FF_2014-03-07.mat'\n",
    "]\n",
    "\n",
    "'''\n",
    "Load electrode maps.\n",
    "'''\n",
    "m1_emap  = localize_elecs(read_cmp(file_path='/Users/Daphne/Data/Chewie Left M1 SN 6250-001474.cmp'), elecs=range(1,97))\n",
    "pmd_emap = localize_elecs(read_cmp(file_path='/Users/Daphne/Data/Chewie Left PMd SN 6251-001469.cmp'), elecs=range(1,97))\n",
    "\n",
    "np.random.seed(2021)\n",
    "\n",
    "# Control number 3: randomize the electrode positions\n",
    "m1_emap_rand = np.random.permutation(m1_emap.flat).reshape(10,10)\n",
    "pmd_emap_rand = np.random.permutation(pmd_emap.flat).reshape(10,10)"
   ]
  },
  {
   "cell_type": "code",
   "execution_count": 7,
   "metadata": {},
   "outputs": [],
   "source": [
    "''' \n",
    "Parameters \n",
    "'''\n",
    "OTHER_ARRAY_D = 50 # Distance value to indicate other array\n",
    "# Choose explained variance levels\n",
    "exp_var_levels = np.arange(0, 0.85, 0.025)\n",
    "\n",
    "sessions_alphas = []\n",
    "sessions_beta1 = []\n",
    "sessions_beta2 = []\n",
    "\n",
    "sessions_pvals_alpha = []\n",
    "sessions_pvals_beta1 = []\n",
    "sessions_pvals_beta2 = []"
   ]
  },
  {
   "cell_type": "code",
   "execution_count": 8,
   "metadata": {},
   "outputs": [
    {
     "name": "stderr",
     "output_type": "stream",
     "text": [
      "  0%|          | 0/8 [00:00<?, ?it/s]\n",
      "  0%|          | 0/34 [00:00<?, ?it/s]\u001b[A\n",
      "  0%|          | 0/8 [00:17<?, ?it/s]\n"
     ]
    },
    {
     "ename": "ValueError",
     "evalue": "x and y must have length at least 2.",
     "output_type": "error",
     "traceback": [
      "\u001b[0;31m---------------------------------------------------------------------------\u001b[0m",
      "\u001b[0;31mValueError\u001b[0m                                Traceback (most recent call last)",
      "\u001b[0;32m<ipython-input-8-0441e9bdf49f>\u001b[0m in \u001b[0;36m<module>\u001b[0;34m\u001b[0m\n\u001b[1;32m     43\u001b[0m \u001b[0;34m\u001b[0m\u001b[0m\n\u001b[1;32m     44\u001b[0m         \u001b[0;31m# Compute correlations for true data (emp) and three controls\u001b[0m\u001b[0;34m\u001b[0m\u001b[0;34m\u001b[0m\u001b[0;34m\u001b[0m\u001b[0m\n\u001b[0;32m---> 45\u001b[0;31m         \u001b[0mC_emp\u001b[0m\u001b[0;34m,\u001b[0m \u001b[0mD_emp\u001b[0m\u001b[0;34m,\u001b[0m \u001b[0mA_emp\u001b[0m \u001b[0;34m=\u001b[0m \u001b[0mcorrs_and_distances\u001b[0m\u001b[0;34m(\u001b[0m\u001b[0mL_emp\u001b[0m\u001b[0;34m,\u001b[0m \u001b[0mtd\u001b[0m\u001b[0;34m[\u001b[0m\u001b[0;34m'M1_unit_guide'\u001b[0m\u001b[0;34m]\u001b[0m\u001b[0;34m[\u001b[0m\u001b[0;36m0\u001b[0m\u001b[0;34m]\u001b[0m\u001b[0;34m,\u001b[0m \u001b[0mtd\u001b[0m\u001b[0;34m[\u001b[0m\u001b[0;34m'PMd_unit_guide'\u001b[0m\u001b[0;34m]\u001b[0m\u001b[0;34m[\u001b[0m\u001b[0;36m0\u001b[0m\u001b[0;34m]\u001b[0m\u001b[0;34m,\u001b[0m \u001b[0mm1_emap\u001b[0m\u001b[0;34m,\u001b[0m \u001b[0mpmd_emap\u001b[0m\u001b[0;34m)\u001b[0m\u001b[0;34m\u001b[0m\u001b[0;34m\u001b[0m\u001b[0m\n\u001b[0m\u001b[1;32m     46\u001b[0m \u001b[0;34m\u001b[0m\u001b[0m\n\u001b[1;32m     47\u001b[0m         \u001b[0mdf_emp\u001b[0m \u001b[0;34m=\u001b[0m \u001b[0mpd\u001b[0m\u001b[0;34m.\u001b[0m\u001b[0mDataFrame\u001b[0m\u001b[0;34m(\u001b[0m\u001b[0mdata\u001b[0m\u001b[0;34m=\u001b[0m\u001b[0;34m{\u001b[0m\u001b[0;34m'correlation'\u001b[0m\u001b[0;34m:\u001b[0m \u001b[0mC_emp\u001b[0m\u001b[0;34m,\u001b[0m \u001b[0;34m'abs correlation'\u001b[0m\u001b[0;34m:\u001b[0m \u001b[0mabs\u001b[0m\u001b[0;34m(\u001b[0m\u001b[0mC_emp\u001b[0m\u001b[0;34m)\u001b[0m\u001b[0;34m,\u001b[0m \u001b[0;34m'distance'\u001b[0m\u001b[0;34m:\u001b[0m \u001b[0mD_emp\u001b[0m\u001b[0;34m,\u001b[0m \u001b[0;34m'on array'\u001b[0m\u001b[0;34m:\u001b[0m \u001b[0mA_emp\u001b[0m\u001b[0;34m}\u001b[0m\u001b[0;34m)\u001b[0m\u001b[0;34m\u001b[0m\u001b[0;34m\u001b[0m\u001b[0m\n",
      "\u001b[0;32m~/DistanceAndDependence/rutils.py\u001b[0m in \u001b[0;36mcorrs_and_distances\u001b[0;34m(L, m1_unit_guide, pmd_unit_guide, m1_emap, pmd_emap, metric, OTHER_ARRAY_D)\u001b[0m\n\u001b[1;32m    775\u001b[0m             \u001b[0;32melse\u001b[0m\u001b[0;34m:\u001b[0m\u001b[0;34m\u001b[0m\u001b[0;34m\u001b[0m\u001b[0m\n\u001b[1;32m    776\u001b[0m                 \u001b[0;31m# Compute correlation between PCs\u001b[0m\u001b[0;34m\u001b[0m\u001b[0;34m\u001b[0m\u001b[0;34m\u001b[0m\u001b[0m\n\u001b[0;32m--> 777\u001b[0;31m                 \u001b[0mrho_ij\u001b[0m\u001b[0;34m,\u001b[0m \u001b[0m_\u001b[0m \u001b[0;34m=\u001b[0m \u001b[0mstats\u001b[0m\u001b[0;34m.\u001b[0m\u001b[0mpearsonr\u001b[0m\u001b[0;34m(\u001b[0m\u001b[0mL\u001b[0m\u001b[0;34m[\u001b[0m\u001b[0mi\u001b[0m\u001b[0;34m,\u001b[0m \u001b[0;34m:\u001b[0m\u001b[0;34m]\u001b[0m\u001b[0;34m,\u001b[0m \u001b[0mL\u001b[0m\u001b[0;34m[\u001b[0m\u001b[0mj\u001b[0m\u001b[0;34m,\u001b[0m \u001b[0;34m:\u001b[0m\u001b[0;34m]\u001b[0m\u001b[0;34m)\u001b[0m\u001b[0;34m\u001b[0m\u001b[0;34m\u001b[0m\u001b[0m\n\u001b[0m\u001b[1;32m    778\u001b[0m                 \u001b[0mC\u001b[0m\u001b[0;34m.\u001b[0m\u001b[0mappend\u001b[0m\u001b[0;34m(\u001b[0m\u001b[0mrho_ij\u001b[0m\u001b[0;34m)\u001b[0m\u001b[0;34m\u001b[0m\u001b[0;34m\u001b[0m\u001b[0m\n\u001b[1;32m    779\u001b[0m \u001b[0;34m\u001b[0m\u001b[0m\n",
      "\u001b[0;32m~/opt/anaconda3/lib/python3.7/site-packages/scipy/stats/stats.py\u001b[0m in \u001b[0;36mpearsonr\u001b[0;34m(x, y)\u001b[0m\n\u001b[1;32m   3836\u001b[0m \u001b[0;34m\u001b[0m\u001b[0m\n\u001b[1;32m   3837\u001b[0m     \u001b[0;32mif\u001b[0m \u001b[0mn\u001b[0m \u001b[0;34m<\u001b[0m \u001b[0;36m2\u001b[0m\u001b[0;34m:\u001b[0m\u001b[0;34m\u001b[0m\u001b[0;34m\u001b[0m\u001b[0m\n\u001b[0;32m-> 3838\u001b[0;31m         \u001b[0;32mraise\u001b[0m \u001b[0mValueError\u001b[0m\u001b[0;34m(\u001b[0m\u001b[0;34m'x and y must have length at least 2.'\u001b[0m\u001b[0;34m)\u001b[0m\u001b[0;34m\u001b[0m\u001b[0;34m\u001b[0m\u001b[0m\n\u001b[0m\u001b[1;32m   3839\u001b[0m \u001b[0;34m\u001b[0m\u001b[0m\n\u001b[1;32m   3840\u001b[0m     \u001b[0mx\u001b[0m \u001b[0;34m=\u001b[0m \u001b[0mnp\u001b[0m\u001b[0;34m.\u001b[0m\u001b[0masarray\u001b[0m\u001b[0;34m(\u001b[0m\u001b[0mx\u001b[0m\u001b[0;34m)\u001b[0m\u001b[0;34m\u001b[0m\u001b[0;34m\u001b[0m\u001b[0m\n",
      "\u001b[0;31mValueError\u001b[0m: x and y must have length at least 2."
     ]
    }
   ],
   "source": [
    "'''\n",
    "Get significance and coefficients for all sessions\n",
    "'''\n",
    "warnings.simplefilter('ignore')\n",
    "\n",
    "for s in pbar(range(len(sessions_C))):\n",
    "\n",
    "    # Load session data\n",
    "    session = sessions_C[s]\n",
    "    df = mat2dataframe('/Users/Daphne/Data/' + session, shift_idx_fields=True)\n",
    "    s_monkey = session[:1]\n",
    "\n",
    "    # Perform preprocessing\n",
    "    td = combine_time_bins(df, n_bins=3)\n",
    "    td = remove_low_firing_neurons(td, signal='M1_spikes',  threshold=1)\n",
    "    td = remove_low_firing_neurons(td, signal='PMd_spikes', threshold=1)\n",
    "    td = transform_signal(td, signals='M1_spikes',  transformations='sqrt')\n",
    "    td = transform_signal(td, signals='PMd_spikes', transformations='sqrt')\n",
    "    td = merge_signals(td, ['M1_spikes', 'PMd_spikes'], 'both_spikes')\n",
    "    td = add_firing_rates(td, 'smooth', std=0.05)\n",
    "    td = td.loc[td['epoch'] == 'BL']\n",
    "\n",
    "    # Dimensionality reduction\n",
    "    N_total = td.both_rates[0].shape[1]\n",
    "\n",
    "    # Perform PCA on the trial concatenated trialdata\n",
    "    td, model_m1pmd = tools.dim_reduce(td, PCA(n_components=N_total), 'both_rates', 'both_pca', return_model=True)\n",
    "    m1pmd_pcs = model_m1pmd.components_.T\n",
    "\n",
    "    pc_range = [np.argmax(model_m1pmd.explained_variance_ratio_.cumsum() > exp_var_levels[i]) for i in range(len(exp_var_levels))]\n",
    "    alphas = []\n",
    "    beta1 = []\n",
    "    beta2 = []\n",
    "    pvals_alpha = []\n",
    "    pvals_beta1 = []\n",
    "    pvals_beta2 = []\n",
    "        \n",
    "    for k in pbar(pc_range):\n",
    "\n",
    "        #print(f' OLS with {k} PCs')\n",
    "        # Take the first k PCs of empirical data (k-dim Manifold)\n",
    "        L_emp = m1pmd_pcs[:, :k]\n",
    "\n",
    "        # Compute correlations \n",
    "        C_emp, D_emp, A_emp = corrs_and_distances(L_emp, td['M1_unit_guide'][0], td['PMd_unit_guide'][0], m1_emap, pmd_emap)\n",
    "\n",
    "        df_emp = pd.DataFrame(data={'correlation': C_emp, 'abs correlation': abs(C_emp), 'distance': D_emp, 'on array': A_emp})\n",
    "        df_emp['category'] = df_emp['distance'].apply(lambda d: 'same electrode' if d == 0 else ('same array' if d < OTHER_ARRAY_D else ('other array')))\n",
    "        df_emp['within distance'] = pd.cut(df_emp['distance'], bins=[-0.1, 0.001, 2.01, 4.01, OTHER_ARRAY_D], labels=['0', '(0, 2]','(2, 4]', '(4, inf)'])\n",
    "\n",
    "        # Do ANOVA TEST\n",
    "        X = np.vstack((np.ones_like(df_emp['correlation']), df_emp['distance'] == 0, df_emp['distance'] < OTHER_ARRAY_D)).T\n",
    "        res = sm.OLS(df_emp['correlation'], X, hasconst=True).fit()\n",
    "\n",
    "        # Store p values and beta coefficients\n",
    "        alphas.append(res.params[0])\n",
    "        beta1.append(res.params[1])\n",
    "        beta2.append(res.params[2])\n",
    "\n",
    "        pvals_alpha.append(res.pvalues[0])\n",
    "        pvals_beta1.append(res.pvalues[1])\n",
    "        pvals_beta2.append(res.pvalues[2])\n",
    "        \n",
    "    # store values of all pc ranges to session\n",
    "    sessions_alphas.append(alphas)\n",
    "    sessions_beta1.append(beta1)\n",
    "    sessions_beta2.append(beta2)\n",
    "    \n",
    "    sessions_pvals_alpha.append(pvals_alpha)\n",
    "    sessions_pvals_beta1.append(pvals_beta1)\n",
    "    sessions_pvals_beta2.append(pvals_beta2)\n",
    "\n",
    "sessions_pvals_alpha = np.array(sessions_pvals_alpha)\n",
    "sessions_pvals_beta1 = np.array(sessions_pvals_beta1)\n",
    "sessions_pvals_beta2 = np.array(sessions_pvals_beta2)"
   ]
  },
  {
   "cell_type": "code",
   "execution_count": null,
   "metadata": {},
   "outputs": [],
   "source": []
  },
  {
   "cell_type": "code",
   "execution_count": null,
   "metadata": {},
   "outputs": [],
   "source": [
    "len(sessions_alphas)"
   ]
  },
  {
   "cell_type": "code",
   "execution_count": null,
   "metadata": {},
   "outputs": [],
   "source": [
    "sessions_pvals_alpha = np.array(sessions_pvals_alpha)\n",
    "sessions_pvals_beta1 = np.array(sessions_pvals_beta1)\n",
    "sessions_pvals_beta2 = np.array(sessions_pvals_beta2)\n",
    "\n",
    "sessions_pvals_alpha < 0.01"
   ]
  },
  {
   "cell_type": "code",
   "execution_count": null,
   "metadata": {},
   "outputs": [],
   "source": [
    "sessions_pvals_beta1 < 0.01"
   ]
  },
  {
   "cell_type": "code",
   "execution_count": null,
   "metadata": {},
   "outputs": [],
   "source": [
    "sessions_pvals_beta2 < 0.01"
   ]
  },
  {
   "cell_type": "code",
   "execution_count": null,
   "metadata": {},
   "outputs": [],
   "source": [
    "cs = ['b', 'k', 'g', 'r', 'c', 'gray', 'y', '#2A3146']"
   ]
  },
  {
   "cell_type": "code",
   "execution_count": null,
   "metadata": {},
   "outputs": [],
   "source": [
    "fig, axs = plt.subplots(nrows=1, ncols=3, figsize=(20, 6))\n",
    "\n",
    "fig.suptitle('OLS regression coefficients across Monkey C sessions', y=1.03)\n",
    "\n",
    "axs[0].set_title(r'Other array constant: $\\alpha$', loc='left', fontsize=14)\n",
    "axs[0].axhline(0, color='k', alpha=0.4)\n",
    "for i in range(8): axs[0].plot(exp_var_levels, sessions_alphas[i], 'o-', color=cs[i], alpha=0.5)\n",
    "axs[0].set_xlabel('Explained variance')\n",
    "\n",
    "axs[1].set_title(r'Same array ($d_{ij} \\neq 0$) coefficient: $\\beta_1$', loc='left', fontsize=14)\n",
    "axs[1].axhline(0, color='k', alpha=0.4)\n",
    "for i in range(8): axs[1].plot(exp_var_levels, sessions_beta1[i] , 'o-', color=cs[i], alpha=0.5)\n",
    "\n",
    "    \n",
    "axs[2].set_title(r'Same electrode ($d_{ij} = 0$) coefficient : $\\beta_2$', loc='left', fontsize=14)\n",
    "axs[2].axhline(0, color='k', alpha=0.4)\n",
    "for i in range(8): axs[2].plot(exp_var_levels, sessions_beta2[i] , 'o-', color=cs[i], alpha=0.5)\n",
    "\n",
    "legend_elements = [Patch(facecolor='k',label='One session'),]\n",
    "#axs[2].legend(handles=legend_elements, loc='center right', bbox_to_anchor=(1.3, 0.9), fontsize=16)\n",
    "\n",
    "fig.tight_layout(), sns.despine();"
   ]
  },
  {
   "cell_type": "code",
   "execution_count": null,
   "metadata": {},
   "outputs": [],
   "source": []
  }
 ],
 "metadata": {
  "kernelspec": {
   "display_name": "uni",
   "language": "python",
   "name": "uni"
  },
  "language_info": {
   "codemirror_mode": {
    "name": "ipython",
    "version": 3
   },
   "file_extension": ".py",
   "mimetype": "text/x-python",
   "name": "python",
   "nbconvert_exporter": "python",
   "pygments_lexer": "ipython3",
   "version": "3.7.4"
  }
 },
 "nbformat": 4,
 "nbformat_minor": 4
}
