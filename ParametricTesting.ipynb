{
 "cells": [
  {
   "cell_type": "markdown",
   "metadata": {},
   "source": [
    "## Testing for a relationship between physical distance and statistical dependence\n",
    "\n",
    "In this notebook, we test for the presence and nature of this relation through an ANOVA (parametric) test."
   ]
  },
  {
   "cell_type": "code",
   "execution_count": 31,
   "metadata": {},
   "outputs": [],
   "source": [
    "''' Dependencies '''\n",
    "from sklearn.decomposition import PCA\n",
    "from tqdm.auto import tqdm\n",
    "import scipy.io as sio\n",
    "import warnings\n",
    "import pandas as pd\n",
    "import numpy as np\n",
    "import scipy\n",
    "import sys\n",
    "import statsmodels.api as sm\n",
    "from tqdm import tqdm as pbar\n",
    "\n",
    "# my scripts\n",
    "from pyaldata import * \n",
    "import preprocess\n",
    "\n",
    "import utils\n",
    "import importlib\n",
    "importlib.reload(utils)\n",
    "from utils import *\n",
    "\n",
    "# Plotting\n",
    "# from matplotlib.offsetbox import AnchoredText\n",
    "import matplotlib.pyplot as plt\n",
    "import seaborn as sns\n",
    "\n",
    "%config InlineBackend.figure_format = 'retina'\n",
    "\n",
    "Dict = {\n",
    "    'Sessions' : {\n",
    "        'Var exp': {\n",
    "            # some lambda fuction EXP_VAR_THRESHOLDS\n",
    "        }\n",
    "    }\n",
    "    \n",
    "    'Session 1' : {\n",
    "        'Var exp': {\n",
    "            # some lambda fuction EXP_VAR_THRESHOLDS\n",
    "        }\n",
    "    }\n",
    "    \n",
    "}"
   ]
  },
  {
   "cell_type": "code",
   "execution_count": 62,
   "metadata": {},
   "outputs": [],
   "source": [
    "''' Parameters '''\n",
    "OTHER_ARRAY_D = 50 # Distance value to indicate other array\n",
    "\n",
    "EXP_VAR_THRESHOLDS = np.arange(0.2, 0.95, 0.025)\n",
    "\n",
    "TYPE_ANALYSIS = 'pooled' # alternative: 'm1', 'pmd' #TODO\n",
    "\n",
    "SESSIONS = ['Chewie_CO_VR_2016-09-09', 'Chewie_CO_VR_2016-09-12', 'Chewie_CO_VR_2016-09-14', 'Chewie_CO_VR_2016-10-06', \n",
    "            'Chewie_CO_FF_2016-09-15', 'Chewie_CO_FF_2016-09-21', 'Chewie_CO_FF_2016-10-05', 'Chewie_CO_FF_2016-10-07',\n",
    "            'Mihili_CO_VR_2014-03-04', 'Mihili_CO_VR_2014-03-06', 'Mihili_CO_FF_2014-02-03', 'Mihili_CO_FF_2014-02-17', \n",
    "            'Mihili_CO_FF_2014-02-18', 'Mihili_CO_FF_2014-03-07', 'Mihili_CO_VR_2014-03-03']"
   ]
  },
  {
   "cell_type": "code",
   "execution_count": 63,
   "metadata": {},
   "outputs": [],
   "source": [
    "''' Experimental sessions and electrode maps '''\n",
    "m1_emap  = localize_elecs(read_cmp(file_path='/Users/Daphne/Data/Chewie Left M1 SN 6250-001474.cmp'),  elecs=range(1,97))\n",
    "pmd_emap = localize_elecs(read_cmp(file_path='/Users/Daphne/Data/Chewie Left PMd SN 6251-001469.cmp'), elecs=range(1,97))"
   ]
  },
  {
   "cell_type": "code",
   "execution_count": 96,
   "metadata": {},
   "outputs": [
    {
     "name": "stderr",
     "output_type": "stream",
     "text": [
      "100%|██████████| 2/2 [00:28<00:00, 14.33s/it]\n"
     ]
    }
   ],
   "source": [
    "''' Perform preprocessing and store in sessions dictionary '''\n",
    "\n",
    "main_dict = {}\n",
    "\n",
    "for s in pbar(range(len(SESSIONS[:2]))):\n",
    "    main_dict[f'{SESSIONS[s][-10:]}'] = {\n",
    "        'df' : preprocess.preprocess_data(SESSIONS[s], '/Users/Daphne/Data/'),\n",
    "    }"
   ]
  },
  {
   "cell_type": "code",
   "execution_count": 35,
   "metadata": {},
   "outputs": [
    {
     "name": "stderr",
     "output_type": "stream",
     "text": [
      "100%|██████████| 8/8 [00:30<00:00,  3.86s/it]\n"
     ]
    }
   ],
   "source": [
    "''' Trial-concatenate and perform dim reduction all sessions '''\n",
    "\n",
    "#### ITERATE THROUGH SESSIONS ####\n",
    "for s in pbar(main_dict.keys()):\n",
    "    \n",
    "    # Select trial data for session by idx\n",
    "    td = list(main_dict[s]['df'].values())\n",
    "    \n",
    "    if TYPE_ANALYSIS == 'pooled':\n",
    "        X = np.concatenate(td['both_rates'].values, axis=0) # All neurons (M1 + PMd)\n",
    "        N = td.both_rates[0].shape[1]\n",
    "        \n",
    "    elif TYPE_ANALYSIS == 'm1':   \n",
    "        X = np.concatenate(td['M1_rates'].values, axis=0)\n",
    "        N = td.M1_rates[0].shape[1]\n",
    "\n",
    "    elif TYPE_ANALYSIS == 'pmd':  \n",
    "        X = np.concatenate(td['PMd_rates'].values, axis=0)\n",
    "        N = td.PMd_rates[0].shape[1]\n",
    "        \n",
    "    # PSEUDO SURROGATE #TODO\n",
    "    X_surr = np.random.normal(size=(X.shape))\n",
    "    \n",
    "    #### DIM REDUCTION ####\n",
    "    # True data\n",
    "    model = PCA(n_components=N)\n",
    "    model.fit(X)\n",
    "    main_dict[s]['model'] = model\n",
    "    main_dict[s]['pcs'] = \n",
    "    model_sessions.append(model)\n",
    "    pcs_sessions.append(model.components_.T)\n",
    "    \n",
    "    # Surrogate\n",
    "    model_surr = PCA(n_components=N)\n",
    "    model_surr.fit(X_surr)\n",
    "    model_surr_sessions.append(model_surr)\n",
    "    pcs_surr_sessions.append(model_surr.components_.T)\n",
    "    \n",
    "    session_dict[session]['pcs'] = "
   ]
  },
  {
   "cell_type": "code",
   "execution_count": 36,
   "metadata": {},
   "outputs": [
    {
     "data": {
      "text/plain": [
       "(218, 218)"
      ]
     },
     "execution_count": 36,
     "metadata": {},
     "output_type": "execute_result"
    }
   ],
   "source": [
    "# Sanity check, pcs must be N x N\n",
    "\n",
    "pcs_sessions[0].shape"
   ]
  },
  {
   "cell_type": "code",
   "execution_count": 37,
   "metadata": {},
   "outputs": [],
   "source": [
    "# TODO: Generate surrogate data with TME\n",
    "# ..."
   ]
  },
  {
   "cell_type": "markdown",
   "metadata": {},
   "source": [
    "### Compute correlations and spatial distances for all sessions"
   ]
  },
  {
   "cell_type": "code",
   "execution_count": 42,
   "metadata": {},
   "outputs": [],
   "source": [
    "''' CHOOSE VAR EXPLAINED LEVEL '''\n",
    "\n",
    "VAR_EXPLAINED = 0.4"
   ]
  },
  {
   "cell_type": "code",
   "execution_count": 43,
   "metadata": {},
   "outputs": [
    {
     "name": "stderr",
     "output_type": "stream",
     "text": [
      "100%|██████████| 8/8 [01:34<00:00, 11.85s/it]\n"
     ]
    }
   ],
   "source": [
    "sessions_dfs, sessions_dfs_surr = get_df_sessions_varexp(sessions=sessions, var_exp=VAR_EXPLAINED, model_sessions=model_sessions, \n",
    "                                                         pcs_sessions=pcs_sessions, model_surr_sessions=model_surr_sessions, \n",
    "                                                         pcs_surr_sessions=pcs_surr_sessions, td_sessions=td_sessions, m1_emap=m1_emap, pmd_emap=pmd_emap, OTHER_ARRAY_D=50)"
   ]
  },
  {
   "cell_type": "markdown",
   "metadata": {},
   "source": [
    "### Make violin plots for all sessions, given var. explained level"
   ]
  },
  {
   "cell_type": "code",
   "execution_count": 4,
   "metadata": {},
   "outputs": [],
   "source": [
    "# ''' Concatenate surrogate and real data dfs, make violins '''\n",
    "\n",
    "# plt.rcParams['axes.prop_cycle'] = plt.cycler(color=['#69A5FF', '#DCDFE3'])\n",
    "# plt.rcParams['axes.labelsize'] = 16\n",
    "\n",
    "# for s in range(len(sessions)):\n",
    "    \n",
    "#     print(sessions[s])\n",
    "    \n",
    "#     df_emp_and_surr = pd.concat([sessions_dfs[s], sessions_dfs_surr[s]])\n",
    "#     fig, axs = plt.subplots(1, 2, figsize=(17, 6))\n",
    "\n",
    "#     sns.violinplot(x='category', y='correlation', hue='Type', data=df_emp_and_control, inner='quartile', \n",
    "#                 split=True, order=['same electrode', 'same array', 'other array'], legend=False, ax=axs[0])\n",
    "\n",
    "#     sns.violinplot(x='within distance', y='correlation', hue='Type', data=df_emp_and_control, inner='quartile',\n",
    "#                 split=True, order=['0', '(0, 2]','(2, 4]', '(4, inf)'], ax=axs[1], legend=True)\n",
    "\n",
    "#     axs[0].set_ylim=(-1, 1.1)\n",
    "#     axs[0].get_legend().remove()\n",
    "#     axs[0].set_ylabel(r'$\\rho$')\n",
    "#     axs[1].set_ylim=(-1, 1.1)\n",
    "#     axs[1].set_ylabel(r'$\\rho$')\n",
    "#     axs[1].legend(bbox_to_anchor=(1.3, 1))\n",
    "\n",
    "#     # Make means different color\n",
    "#     for l in axs[0].lines[1::3]:\n",
    "#         l.set_linewidth(1.3)\n",
    "#         l.set_color('#000000')\n",
    "\n",
    "#     for l in axs[1].lines[1::3]:\n",
    "#         l.set_linewidth(1.3)\n",
    "#         l.set_color('#000000')\n",
    "#     sns.despine(), plt.show()"
   ]
  },
  {
   "cell_type": "markdown",
   "metadata": {},
   "source": [
    "### Run ANOVA tests"
   ]
  },
  {
   "cell_type": "code",
   "execution_count": 44,
   "metadata": {},
   "outputs": [
    {
     "data": {
      "text/html": [
       "<div>\n",
       "<style scoped>\n",
       "    .dataframe tbody tr th:only-of-type {\n",
       "        vertical-align: middle;\n",
       "    }\n",
       "\n",
       "    .dataframe tbody tr th {\n",
       "        vertical-align: top;\n",
       "    }\n",
       "\n",
       "    .dataframe thead th {\n",
       "        text-align: right;\n",
       "    }\n",
       "</style>\n",
       "<table border=\"1\" class=\"dataframe\">\n",
       "  <thead>\n",
       "    <tr style=\"text-align: right;\">\n",
       "      <th></th>\n",
       "      <th>correlation</th>\n",
       "      <th>distance</th>\n",
       "      <th>on array</th>\n",
       "      <th>category</th>\n",
       "      <th>within distance</th>\n",
       "      <th>Type</th>\n",
       "    </tr>\n",
       "  </thead>\n",
       "  <tbody>\n",
       "    <tr>\n",
       "      <th>0</th>\n",
       "      <td>-0.148665</td>\n",
       "      <td>3.000000</td>\n",
       "      <td>M1</td>\n",
       "      <td>same array</td>\n",
       "      <td>(2, 4]</td>\n",
       "      <td>Actual</td>\n",
       "    </tr>\n",
       "    <tr>\n",
       "      <th>1</th>\n",
       "      <td>0.180301</td>\n",
       "      <td>2.236068</td>\n",
       "      <td>M1</td>\n",
       "      <td>same array</td>\n",
       "      <td>(2, 4]</td>\n",
       "      <td>Actual</td>\n",
       "    </tr>\n",
       "    <tr>\n",
       "      <th>2</th>\n",
       "      <td>0.370257</td>\n",
       "      <td>1.414214</td>\n",
       "      <td>M1</td>\n",
       "      <td>same array</td>\n",
       "      <td>(0, 2]</td>\n",
       "      <td>Actual</td>\n",
       "    </tr>\n",
       "    <tr>\n",
       "      <th>3</th>\n",
       "      <td>-0.076905</td>\n",
       "      <td>2.236068</td>\n",
       "      <td>M1</td>\n",
       "      <td>same array</td>\n",
       "      <td>(2, 4]</td>\n",
       "      <td>Actual</td>\n",
       "    </tr>\n",
       "    <tr>\n",
       "      <th>4</th>\n",
       "      <td>-0.520833</td>\n",
       "      <td>2.236068</td>\n",
       "      <td>M1</td>\n",
       "      <td>same array</td>\n",
       "      <td>(2, 4]</td>\n",
       "      <td>Actual</td>\n",
       "    </tr>\n",
       "    <tr>\n",
       "      <th>...</th>\n",
       "      <td>...</td>\n",
       "      <td>...</td>\n",
       "      <td>...</td>\n",
       "      <td>...</td>\n",
       "      <td>...</td>\n",
       "      <td>...</td>\n",
       "    </tr>\n",
       "    <tr>\n",
       "      <th>23648</th>\n",
       "      <td>-0.388244</td>\n",
       "      <td>1.000000</td>\n",
       "      <td>PMd</td>\n",
       "      <td>same array</td>\n",
       "      <td>(0, 2]</td>\n",
       "      <td>Actual</td>\n",
       "    </tr>\n",
       "    <tr>\n",
       "      <th>23649</th>\n",
       "      <td>0.631326</td>\n",
       "      <td>1.000000</td>\n",
       "      <td>PMd</td>\n",
       "      <td>same array</td>\n",
       "      <td>(0, 2]</td>\n",
       "      <td>Actual</td>\n",
       "    </tr>\n",
       "    <tr>\n",
       "      <th>23650</th>\n",
       "      <td>0.675981</td>\n",
       "      <td>0.000000</td>\n",
       "      <td>PMd</td>\n",
       "      <td>same electrode</td>\n",
       "      <td>0</td>\n",
       "      <td>Actual</td>\n",
       "    </tr>\n",
       "    <tr>\n",
       "      <th>23651</th>\n",
       "      <td>0.407076</td>\n",
       "      <td>0.000000</td>\n",
       "      <td>PMd</td>\n",
       "      <td>same electrode</td>\n",
       "      <td>0</td>\n",
       "      <td>Actual</td>\n",
       "    </tr>\n",
       "    <tr>\n",
       "      <th>23652</th>\n",
       "      <td>-0.129019</td>\n",
       "      <td>0.000000</td>\n",
       "      <td>PMd</td>\n",
       "      <td>same electrode</td>\n",
       "      <td>0</td>\n",
       "      <td>Actual</td>\n",
       "    </tr>\n",
       "  </tbody>\n",
       "</table>\n",
       "<p>23653 rows × 6 columns</p>\n",
       "</div>"
      ],
      "text/plain": [
       "       correlation  distance on array        category within distance    Type\n",
       "0        -0.148665  3.000000       M1      same array          (2, 4]  Actual\n",
       "1         0.180301  2.236068       M1      same array          (2, 4]  Actual\n",
       "2         0.370257  1.414214       M1      same array          (0, 2]  Actual\n",
       "3        -0.076905  2.236068       M1      same array          (2, 4]  Actual\n",
       "4        -0.520833  2.236068       M1      same array          (2, 4]  Actual\n",
       "...            ...       ...      ...             ...             ...     ...\n",
       "23648    -0.388244  1.000000      PMd      same array          (0, 2]  Actual\n",
       "23649     0.631326  1.000000      PMd      same array          (0, 2]  Actual\n",
       "23650     0.675981  0.000000      PMd  same electrode               0  Actual\n",
       "23651     0.407076  0.000000      PMd  same electrode               0  Actual\n",
       "23652    -0.129019  0.000000      PMd  same electrode               0  Actual\n",
       "\n",
       "[23653 rows x 6 columns]"
      ]
     },
     "execution_count": 44,
     "metadata": {},
     "output_type": "execute_result"
    }
   ],
   "source": [
    "sessions_dfs[0]"
   ]
  },
  {
   "cell_type": "code",
   "execution_count": 46,
   "metadata": {},
   "outputs": [],
   "source": [
    "''' Choose session '''\n",
    "\n",
    "SESSION_ID = 0"
   ]
  },
  {
   "cell_type": "code",
   "execution_count": 53,
   "metadata": {},
   "outputs": [],
   "source": [
    "variants = {\n",
    "  'Empirical study' : sessions_dfs[SESSION_ID],\n",
    "  'Control study: TME': sessions_dfs_surr[SESSION_ID],\n",
    "}\n",
    "\n",
    "#############\n",
    "# WORKS; DON'T EDIT\n",
    "#############\n",
    "\n",
    "# Fixed within intervals\n",
    "INTERVALS = [(0, 2), (0, 4)]\n",
    "\n",
    "# Dummy functions\n",
    "int_dum = lambda df, lb, ub: df['distance'].apply(lambda x: 1 if lb < x <= ub else 0)\n",
    "on_arr = lambda df, arr: df['on array'].apply(lambda x: 1 if x == arr else 0)\n",
    "same_ele = lambda df: df['distance'].apply(lambda x: 1 if x == 0 else 0)\n",
    "same_arr = lambda df: df['distance'].apply(lambda x: 1 if 0 < x < OTHER_ARRAY_D else 0)\n",
    "\n",
    "# Analyses methods\n",
    "analyses = {\n",
    "  'single category' : {\n",
    "    'fixed cols' : {\n",
    "      'OA Constant' : lambda df: [1] * len(df),\n",
    "      'SE (d = 0)' : same_ele,\n",
    "      'SA (d exists)' : same_arr,\n",
    "    },\n",
    "    'variable cols' : {}\n",
    "  },\n",
    "  'multiple categories' : {\n",
    "    'fixed cols' : {\n",
    "      'M1 Constant' : lambda df: on_arr(df, 'M1'),\n",
    "      'OA Constant' : lambda df: on_arr(df, 'OA'),\n",
    "      'PMd Constant' : lambda df: on_arr(df, 'PMd'),\n",
    "      'SE (d = 0)' : same_ele\n",
    "    },\n",
    "    'variable cols' : {\n",
    "      'd in ' : lambda df, lb, ub: int_dum(df, lb, ub),\n",
    "    },\n",
    "  },\n",
    "  'separate' : {\n",
    "    'fixed cols' : {\n",
    "      'M1 Constant' : lambda df: on_arr(df, 'M1'),\n",
    "      'OA Constant' : lambda df: on_arr(df, 'OA'),\n",
    "      'PMd Constant' : lambda df: on_arr(df, 'PMd'),\n",
    "      'M1 SE (d = 0)' : lambda df: on_arr(df, 'M1') * same_ele(df),\n",
    "      'PMd SE (d = 0)' : lambda df: on_arr(df, 'PMd') * same_ele(df),\n",
    "    },\n",
    "    'variable cols' : {\n",
    "      'M1 d in ' : lambda df, lb, ub: int_dum(df, lb, ub) * on_arr(df, 'M1'),\n",
    "      'PMd d in ' : lambda df, lb, ub: int_dum(df, lb, ub) * on_arr(df, 'PMd'),\n",
    "    }\n",
    "  },\n",
    "}\n",
    "res_dict = {}\n",
    "for study, df in variants.items():\n",
    "    for analysis, cols_dict in analyses.items():\n",
    "        df_X = pd.DataFrame()\n",
    "        for col_name, col_func in cols_dict['fixed cols'].items():\n",
    "            df_X[col_name] = col_func(df)\n",
    "        for (lb, ub) in INTERVALS:\n",
    "            for col_name, col_func in cols_dict['variable cols'].items():\n",
    "                df_X[col_name + f'({lb:.1f}, {ub:.1f}]'] = col_func(df, lb, ub)\n",
    "        df_X = df_X.reindex(sorted(df_X.columns), axis=1)\n",
    "        res = sm.OLS(df.correlation, df_X, hasconst=True).fit()\n",
    "        title = study + f' ({analysis})'\n",
    "        #print(res.summary(title=title, alpha=.05), end='\\n\\n\\n\\n')\n",
    "        res_dict[title] = res"
   ]
  },
  {
   "cell_type": "code",
   "execution_count": 55,
   "metadata": {},
   "outputs": [
    {
     "data": {
      "text/plain": [
       "{'Empirical study (single category)': <statsmodels.regression.linear_model.RegressionResultsWrapper at 0x1b2334190>,\n",
       " 'Empirical study (multiple categories)': <statsmodels.regression.linear_model.RegressionResultsWrapper at 0x1b2334ad0>,\n",
       " 'Empirical study (separate)': <statsmodels.regression.linear_model.RegressionResultsWrapper at 0x1b2334590>,\n",
       " 'Control study: TME (single category)': <statsmodels.regression.linear_model.RegressionResultsWrapper at 0x1b234d650>,\n",
       " 'Control study: TME (multiple categories)': <statsmodels.regression.linear_model.RegressionResultsWrapper at 0x1b234d910>,\n",
       " 'Control study: TME (separate)': <statsmodels.regression.linear_model.RegressionResultsWrapper at 0x1b234dd10>}"
      ]
     },
     "execution_count": 55,
     "metadata": {},
     "output_type": "execute_result"
    }
   ],
   "source": [
    "res_dict"
   ]
  },
  {
   "cell_type": "code",
   "execution_count": 51,
   "metadata": {},
   "outputs": [
    {
     "data": {
      "text/plain": [
       "M1 Constant        0.100014\n",
       "OA Constant        0.030235\n",
       "PMd Constant       0.095465\n",
       "SE (d = 0)         0.111069\n",
       "d in (0.0, 2.0]   -0.008658\n",
       "d in (0.0, 4.0]   -0.000177\n",
       "dtype: float64"
      ]
     },
     "execution_count": 51,
     "metadata": {},
     "output_type": "execute_result"
    }
   ],
   "source": [
    "res_dict['Empirical study (multiple categories)'].params"
   ]
  },
  {
   "cell_type": "code",
   "execution_count": 52,
   "metadata": {},
   "outputs": [
    {
     "data": {
      "text/plain": [
       "M1 Constant         9.820144e-22\n",
       "OA Constant         2.080413e-14\n",
       "PMd Constant       1.149939e-132\n",
       "SE (d = 0)          5.456913e-05\n",
       "d in (0.0, 2.0]     4.160525e-01\n",
       "d in (0.0, 4.0]     9.798400e-01\n",
       "dtype: float64"
      ]
     },
     "execution_count": 52,
     "metadata": {},
     "output_type": "execute_result"
    }
   ],
   "source": [
    "res_dict['Empirical study (multiple categories)'].pvalues"
   ]
  },
  {
   "cell_type": "markdown",
   "metadata": {},
   "source": [
    "### Summary plots"
   ]
  },
  {
   "cell_type": "code",
   "execution_count": 58,
   "metadata": {},
   "outputs": [
    {
     "data": {
      "text/plain": [
       "OA Constant      0.030235\n",
       "SA (d exists)    0.064564\n",
       "SE (d = 0)       0.176832\n",
       "dtype: float64"
      ]
     },
     "execution_count": 58,
     "metadata": {},
     "output_type": "execute_result"
    }
   ],
   "source": [
    "res_dict['Empirical study (single category)'].params"
   ]
  },
  {
   "cell_type": "code",
   "execution_count": null,
   "metadata": {},
   "outputs": [],
   "source": []
  },
  {
   "cell_type": "code",
   "execution_count": null,
   "metadata": {},
   "outputs": [],
   "source": [
    "''' Compute physical distances and correlations for range of manifold dims, across all sessions '''\n",
    "\n",
    "exp_var_levels = np.arange(0.2, 0.95, 0.025)\n",
    "exp_var_to_pcs = []\n",
    "df_both_sessions = []\n",
    "df_surr_sessions = []\n",
    "\n",
    "for s in pbar(range(len(sessions))):\n",
    "    \n",
    "    # Select session data\n",
    "    components_range = [np.argmax(model_both_sessions[s].explained_variance_ratio_.cumsum() > exp_var_levels[i]) for i in range(len(exp_var_levels))]\n",
    "    exp_var_to_pcs.append(components_range)\n",
    "    \n",
    "    for d, k in enumerate(components_range):\n",
    "        if k == 0: \n",
    "            k += 2\n",
    "            warnings.warn('First PC explaines > Var. explained')\n",
    "        elif k == 1: \n",
    "            k += 1\n",
    "            warnings.warn('Second PC explaines > Var. explained')\n",
    "        \n",
    "        # Take latent variables\n",
    "        L_both = pcs_both_sessions[s][:, :k]\n",
    "        \n",
    "        # Get correlations and \n",
    "        C_both, D_both, A_both = compute_stat_and_phys_distances(L_both, td_sessions[s]['M1_unit_guide'][0], td_sessions[s]['PMd_unit_guide'][0], m1_emap, pmd_emap)\n",
    "        \n",
    "        #TODO: compute compute_stat_and_phys_distances() for surrogates\n",
    "    \n",
    "        df_both = pd.DataFrame(data={'correlation': C_both, 'abs correlation': abs(C_both), 'distance': D_both, 'on array': D_both})\n",
    "        df_both['category'] = df_both['distance'].apply(lambda d: 'same electrode' if d == 0 else ('same array' if d < OTHER_ARRAY_D else ('other array')))\n",
    "        df_both['within distance'] = pd.cut(df_both['distance'], bins=[-0.1, 0.001, 2.01, 4.01, OTHER_ARRAY_D], labels=['0', '(0, 2]','(2, 4]', '(4, inf)'])\n",
    "        # Indicator for when concatenating data\n",
    "        df_both['Type'] = 'Actual'\n",
    "        \n",
    "#         df_surr = pd.DataFrame(data={'correlation': C_surr, 'abs correlation': abs(C_surr), 'distance': D_surr, 'on array': D_surr})\n",
    "#         df_surr['category'] = df_surr['distance'].apply(lambda d: 'same electrode' if d == 0 else ('same array' if d < OTHER_ARRAY_D else ('other array')))\n",
    "#         df_surr['within distance'] = pd.cut(df_surr['distance'], bins=[-0.1, 0.001, 2.01, 4.01, OTHER_ARRAY_D], labels=['0', '(0, 2]','(2, 4]', '(4, inf)'])\n",
    "#         # Indicator for when concatenating data\n",
    "#         df_surr['Type'] = 'Surrogate'\n",
    "        \n",
    "        df_both_sessions.append(df_both)\n",
    "#         df_surr_sessions.append(df_surr)"
   ]
  },
  {
   "cell_type": "code",
   "execution_count": 84,
   "metadata": {},
   "outputs": [],
   "source": [
    "p_vals_OA = []\n",
    "p_vals_SA = []\n",
    "p_vals_SE = []\n",
    "coeffs = []"
   ]
  },
  {
   "cell_type": "code",
   "execution_count": 92,
   "metadata": {},
   "outputs": [
    {
     "data": {
      "text/plain": [
       "7.779819932251951e-10"
      ]
     },
     "execution_count": 92,
     "metadata": {},
     "output_type": "execute_result"
    }
   ],
   "source": [
    "res.pvalues[0]"
   ]
  },
  {
   "cell_type": "code",
   "execution_count": 59,
   "metadata": {
    "tags": []
   },
   "outputs": [],
   "source": [
    "# variants = {\n",
    "#   'Empirical study' : df_emp,\n",
    "# #   'Control study: TME': df_surr, \n",
    "# }\n",
    "\n",
    "# #############\n",
    "# # WORKS; DON'T EDIT\n",
    "# #############\n",
    "\n",
    "# # Fixed within intervals\n",
    "# INTERVALS = [(0, 2), (0, 4)]\n",
    "\n",
    "# # Dummy functions\n",
    "# int_dum = lambda df, lb, ub: df['distance'].apply(lambda x: 1 if lb < x <= ub else 0)\n",
    "# on_arr = lambda df, arr: df['on array'].apply(lambda x: 1 if x == arr else 0)\n",
    "# same_ele = lambda df: df['distance'].apply(lambda x: 1 if x == 0 else 0)\n",
    "# same_arr = lambda df: df['distance'].apply(lambda x: 1 if 0 < x < OTHER_ARRAY_D else 0)\n",
    "\n",
    "# # Analyses methods\n",
    "# analyses = {\n",
    "#   'single category' : {\n",
    "#     'fixed cols' : {\n",
    "#       'OA Constant' : lambda df: [1] * len(df),\n",
    "#       'SE (d = 0)' : same_ele,\n",
    "#       'SA (d exists)' : same_arr,\n",
    "#     },\n",
    "#     'variable cols' : {}\n",
    "#   },\n",
    "#   'multiple categories' : {\n",
    "#     'fixed cols' : {\n",
    "#       'M1 Constant' : lambda df: on_arr(df, 'M1'),\n",
    "#       'OA Constant' : lambda df: on_arr(df, 'OA'),\n",
    "#       'PMd Constant' : lambda df: on_arr(df, 'PMd'),\n",
    "#       'SE (d = 0)' : same_ele\n",
    "#     },\n",
    "#     'variable cols' : {\n",
    "#       'd in ' : lambda df, lb, ub: int_dum(df, lb, ub),\n",
    "#     },\n",
    "#   },\n",
    "#   'separate' : {\n",
    "#     'fixed cols' : {\n",
    "#       'M1 Constant' : lambda df: on_arr(df, 'M1'),\n",
    "#       'OA Constant' : lambda df: on_arr(df, 'OA'),\n",
    "#       'PMd Constant' : lambda df: on_arr(df, 'PMd'),\n",
    "#       'M1 SE (d = 0)' : lambda df: on_arr(df, 'M1') * same_ele(df),\n",
    "#       'PMd SE (d = 0)' : lambda df: on_arr(df, 'PMd') * same_ele(df),\n",
    "#     },\n",
    "#     'variable cols' : {\n",
    "#       'M1 d in ' : lambda df, lb, ub: int_dum(df, lb, ub) * on_arr(df, 'M1'),\n",
    "#       'PMd d in ' : lambda df, lb, ub: int_dum(df, lb, ub) * on_arr(df, 'PMd'),\n",
    "#     }\n",
    "#   },\n",
    "# }\n",
    "# res_dict = {}\n",
    "# for study, df in variants.items():\n",
    "#     for analysis, cols_dict in analyses.items():\n",
    "#         df_X = pd.DataFrame()\n",
    "#         for col_name, col_func in cols_dict['fixed cols'].items():\n",
    "#             df_X[col_name] = col_func(df)\n",
    "#         for (lb, ub) in intervals:\n",
    "#             for col_name, col_func in cols_dict['variable cols'].items():\n",
    "#                 df_X[col_name + f'({lb:.1f}, {ub:.1f}]'] = col_func(df, lb, ub)\n",
    "#         df_X = df_X.reindex(sorted(df_X.columns), axis=1)\n",
    "#         res = sm.OLS(df.correlation, df_X, hasconst=True).fit()\n",
    "#         title = study + f' ({analysis})'\n",
    "#         print(res.summary(title=title, alpha=.05), end='\\n\\n\\n\\n')\n",
    "#         res_dict[title] = res"
   ]
  },
  {
   "cell_type": "code",
   "execution_count": null,
   "metadata": {},
   "outputs": [],
   "source": []
  },
  {
   "cell_type": "code",
   "execution_count": null,
   "metadata": {},
   "outputs": [],
   "source": []
  },
  {
   "cell_type": "code",
   "execution_count": null,
   "metadata": {},
   "outputs": [],
   "source": []
  },
  {
   "cell_type": "code",
   "execution_count": null,
   "metadata": {},
   "outputs": [],
   "source": []
  },
  {
   "cell_type": "code",
   "execution_count": null,
   "metadata": {},
   "outputs": [],
   "source": []
  }
 ],
 "metadata": {
  "kernelspec": {
   "display_name": "uni",
   "language": "python",
   "name": "uni"
  },
  "language_info": {
   "codemirror_mode": {
    "name": "ipython",
    "version": 3
   },
   "file_extension": ".py",
   "mimetype": "text/x-python",
   "name": "python",
   "nbconvert_exporter": "python",
   "pygments_lexer": "ipython3",
   "version": "3.7.4"
  }
 },
 "nbformat": 4,
 "nbformat_minor": 5
}
