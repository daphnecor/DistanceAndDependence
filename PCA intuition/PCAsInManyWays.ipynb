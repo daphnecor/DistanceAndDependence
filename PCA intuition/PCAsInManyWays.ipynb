{
 "cells": [
  {
   "cell_type": "markdown",
   "metadata": {
    "id": "K2GsU0bA5dt8"
   },
   "source": [
    "## Principal Components Analysis\n",
    "\n",
    "In this notebook, we implement and compare a variety of Principal Components Analysis (PCA) methods. We start with a general description of PCA.\n",
    "\n",
    "### Outline\n",
    "\n",
    "---\n",
    "\n",
    "[Standard PCA](#Intro)\n",
    "\n",
    "[Generate data](#Generate)\n",
    "\n",
    "**PCA**\n",
    "\n",
    "1. [PCA using SVD](#PCASVD)\n",
    "2. [PCA using covariance method](#PCAcov)\n",
    "3. [PCA using sklearn](#PCAsk)\n",
    "4. [PCA using regression approach](#PCAreg)\n",
    "5. [PCA extensions](#PCAextensions)\n"
   ]
  },
  {
   "cell_type": "code",
   "execution_count": 1,
   "metadata": {
    "id": "3PSdIEPh4Umj"
   },
   "outputs": [],
   "source": [
    "'''\n",
    "Initialize notebook\n",
    "'''\n",
    "\n",
    "# Load dependencies\n",
    "import numpy as np\n",
    "import matplotlib.pyplot as plt\n",
    "import seaborn as sns\n",
    "import warnings\n",
    "np.set_printoptions(suppress=True)\n",
    "from ipywidgets import interact\n",
    "\n",
    "# Figure aesthetics\n",
    "cmap = sns.light_palette(color='electric blue', input='xkcd', as_cmap=True)\n",
    "div_cmap = sns.diverging_palette(250, 150, as_cmap=True)\n",
    "cs = ['#1F4251', '#2D986D', '#195BA7', '#7B9BE3', '#ECE9E9']\n",
    "plt.rcParams['axes.prop_cycle'] = plt.cycler(color=cs)\n",
    "sns.set_style('white')\n",
    "sns.set_context('notebook', font_scale=1.35)\n",
    "\n",
    "# Magic commands\n",
    "%config InlineBackend.figure_format = 'retina'"
   ]
  },
  {
   "cell_type": "code",
   "execution_count": 2,
   "metadata": {
    "id": "tmZM2JYUsg2i"
   },
   "outputs": [],
   "source": [
    "# Useful functions\n",
    "def browse_heatmaps(X, X_approx_arr, E_approx_arr):\n",
    "    '''Display rank r matrix approximations\n",
    "    \n",
    "    Parameters\n",
    "    ----------\n",
    "    X: np.array\n",
    "      Data matrix\n",
    "    X_approx_arr: np.array\n",
    "      Array of X approximations\n",
    "    E_approx_arr: np.array\n",
    "      Error (X - X_approx)\n",
    "    '''\n",
    "    n = X_approx_arr.shape[0]\n",
    "    def view_heatmap(r):\n",
    "        fig, axs = plt.subplots(nrows=1, ncols=3, figsize=(12, 12))\n",
    "        fig.suptitle(f'Rank {r+1} data reconstruction', fontsize=14, y=0.94)\n",
    "        sns.heatmap(X, ax=axs[0], **hm_kwargs, vmin=-0.5, vmax=0.5)\n",
    "        sns.heatmap(X_approx_arr[r], ax=axs[1], **hm_kwargs, vmin=-0.5, vmax=0.5)\n",
    "        sns.heatmap(E_approx_arr[r], ax=axs[2], **hm_kwargs, vmin=-0.5, vmax=0.5)\n",
    "        axs[0].set_title(r'$\\mathbf{X}$')\n",
    "        axs[1].set_title(r'$\\hat{\\mathbf{X}}$')\n",
    "        axs[2].set_title(r'$\\mathbf{E}$')\n",
    "        plt.show()\n",
    "    interact(view_heatmap, r=(0, n-1))"
   ]
  },
  {
   "cell_type": "markdown",
   "metadata": {
    "id": "xgL4G6ZM5VmW"
   },
   "source": [
    "### Standard PCA <a id='Intro'></a>\n",
    "\n",
    "PCA is a dimension reduction technique that aims to reduce the dimensionality of a given data matrix $\\mathbf{X}$ whilst preserving as much information as possible. This is done by projecting each data point onto only the first few principal components to obtain lower-dimensional data. The first principal component can equivalently be defined as a direction that maximizes the variance of the projected data. The $i^\\text{th}$ principal component can be taken as a direction orthogonal to the first $i-1$ principal components that maximizes the variance of the projected data.\n",
    "\n",
    "PCA can be formulated as the statistical interpretation of SVD. Given the data, it gives us a hierarchical coordinate system to represent the statistical variations: the directions are such that they capture the maximum amount of variance in he data. \n",
    "\n",
    "### Matrix norms\n",
    "\n",
    "To quantify how much the reconstructed data $\\mathbf{\\hat{X}}$ differs from the actual data $\\mathbf{X}$ we subtract the two and take the norm of the resulting matrix. The *norm* is a function that maps a matrix to a scalar number. It is a way to measure the size of a matrix.\n",
    "\n",
    "There are a variety of norms out there that emphasize or suppress certain aspects. Here, we choose the Frobenius norm, which is the square root of the sum of the absolute squares of the individual elements,\n",
    "\\begin{align}\n",
    "  \\| X \\|_F &= \\sqrt{\\sum_{i=1}^n \\sum_{j=1}^p |x_{ij}|^2} = \\sqrt{\\text{trace}( \\mathbf{X}^T \\mathbf{X}})\n",
    "\\end{align}\n",
    "\n",
    "Now we have a way to express the distance between two matrices, we can define the _loss_ and keep track of how the estimate improves when the rank increases."
   ]
  },
  {
   "cell_type": "markdown",
   "metadata": {
    "id": "3ISejADkE8FY"
   },
   "source": [
    "### Generate data <a id='Generate'></a>\n",
    "\n",
    "We illustrate the above using a random example. This is then used in the remainder of this notebook to compare different PCA techniques.\n",
    "\n",
    "Note that the convention in Neuroscience is to put neurons `n` on the rows and timepoints `p` on the columns."
   ]
  },
  {
   "cell_type": "code",
   "execution_count": 3,
   "metadata": {
    "id": "NQMHQoaz4Uml"
   },
   "outputs": [],
   "source": [
    "'''\n",
    "Generate random data\n",
    "'''\n",
    "# Fix the seed for reproducibility\n",
    "np.random.seed(42)\n",
    "\n",
    "# Specify example dimensions\n",
    "n = 30 # observations\n",
    "p = 10 # features\n",
    "\n",
    "# Generate example data\n",
    "X_raw = np.random.rand(n, p)\n",
    "X = X_raw - np.outer(np.ones(n), np.mean(X_raw, axis=0))\n",
    "\n",
    "# Define loss function with the Frobenius norm\n",
    "L = lambda E: np.sqrt(np.trace(E @ E.T))"
   ]
  },
  {
   "cell_type": "code",
   "execution_count": 4,
   "metadata": {
    "colab": {
     "base_uri": "https://localhost:8080/",
     "height": 637
    },
    "id": "5y8vrsKIJnXH",
    "outputId": "6642a70b-dd4e-4201-82fa-0202c5d6a5b6"
   },
   "outputs": [
    {
     "data": {
      "image/png": "[encoded data removed]",
      "text/plain": [
       "<Figure size 576x864 with 4 Axes>"
      ]
     },
     "metadata": {
      "image/png": {
       "height": 621,
       "width": 461
      },
      "needs_background": "light"
     },
     "output_type": "display_data"
    }
   ],
   "source": [
    "fig, axs = plt.subplots(nrows=1, ncols=2, figsize=(8, 12))\n",
    "hm_kwargs = {\n",
    "  'xticklabels' : False,\n",
    "  'yticklabels' : False,\n",
    "  'cbar_kws' : {'orientation' : 'horizontal'},\n",
    "  'cmap' : sns.color_palette('bwr', as_cmap=True)\n",
    "}\n",
    "sns.heatmap(X_raw, ax=axs[0], **hm_kwargs)\n",
    "sns.heatmap(X, ax=axs[1], **hm_kwargs)\n",
    "axs[0].set_title(r'$\\mathbf{X}_{raw}$')\n",
    "axs[1].set_title(r'$\\mathbf{X}$');"
   ]
  },
  {
   "cell_type": "markdown",
   "metadata": {
    "id": "5hIyYyTOwJ9Q"
   },
   "source": [
    "### 1 PCA using SVD <a id='PCASVD'></a>"
   ]
  },
  {
   "cell_type": "markdown",
   "metadata": {
    "id": "KBSGB8b_wJ9R"
   },
   "source": [
    "PCA can be computed trough the Singular Value Decomposition (SVD), which is closely related to eigendecomposition. In fact, SVD can be seen as a generalization of eigendecomposition. Any matrix can be decomposed using SVD, whereas eigendecomposition only applies to square matrices.\n",
    "\n",
    "Applying SVD to a matrix $\\mathbf{X}$ yields\n",
    "\\begin{align}\n",
    "    \\mathbf{X} = \\mathbf{U} \\mathbf{\\Sigma} \\mathbf{V}^T\n",
    "\\end{align}\n",
    "\n",
    "---\n",
    "\n",
    "#### SVD interpretation\n",
    "\n",
    "> **TLDR.** We can think of $\\mathbf{U}$ and $\\mathbf{V}$ matrices as the eigenvectors of the variance-covariance matrix, which is given by $\\mathbf{X}\\mathbf{X}^T$ or $\\mathbf{X}^{T} \\mathbf{X}$. \n",
    "\n",
    "> Recall that eigendecomposition is not defined for non-square matrices. However, any matrix can be made square by multiplying it by its transpose, that is,  \n",
    "\\begin{align}\n",
    "    \\mathbf{X}^T \\mathbf{X} &= \n",
    "\\begin{bmatrix} \n",
    "- & & \\mathbf{x}_1^T & &  -  \\\\\n",
    "- & & \\mathbf{x}_2^T & &  -  \\\\\n",
    "  & & \\vdots &               \\\\\n",
    "\\end{bmatrix}\n",
    "\\begin{bmatrix} \n",
    "\\mid & \\mid &  & \\\\\n",
    " \\mathbf{x}_1 & \\mathbf{x}_2 & \\dots \\\\\n",
    "\\mid & \\mid &  & \\\\\n",
    "\\end{bmatrix} \\\\\n",
    "\\text{we take the rows of } \\mathbf{X}^T \\times \\text{ columns of } \\mathbf{X} \\\\ \n",
    "&= \\begin{bmatrix}\n",
    "  \\mathbf{x}_1^T \\mathbf{x}_1 & \\mathbf{x}_1^T \\mathbf{x}_2 & \\dots & \\mathbf{x}_1^T \\mathbf{x}_p \\\\\n",
    "\\mathbf{x}_2^T \\mathbf{x}_1 & \\mathbf{x}_2^T \\mathbf{x}_2 &   \\dots & \\mathbf{x}_2^T \\mathbf{x}_p \\\\\n",
    "\\vdots & \\vdots &  & \\vdots \\\\\n",
    "\\mathbf{x}_p^T \\mathbf{x}_1 & \\mathbf{x}_p^T \\mathbf{x}_2 &   \\dots & \\mathbf{x}_p^T \\mathbf{x}_p\n",
    "\\end{bmatrix}\n",
    "\\end{align}\n",
    "will be square. \n",
    "\n",
    "> Notice that every entry in $\\mathbf{X}^T \\mathbf{X}$ is an inner product between two columns in the matrix $\\mathbf{X}$:\n",
    "\\begin{align}\n",
    "  x_i^T x_j = \\langle x_i, x_j \\rangle\n",
    "\\end{align}\n",
    "\n",
    "[Neuro interpretation]()\n",
    "\n",
    "> One way to compute the SVD of any rectangular matrix - often not used in practice, however - is\n",
    "1. Compute the eigendecomposition of $\\mathbf{X}^T\\mathbf{X}$ to obtain $\\Sigma$ and $\\mathbf{V}$\n",
    "2. Compute the eigendecomposition of $\\mathbf{X}\\mathbf{X}^T$ to obtain $\\mathbf{U}$\n",
    "\n",
    "> Here is why this can be done. \n",
    "\\begin{align}\n",
    "    \\mathbf{X}^T \\mathbf{X} &= (\\mathbf{U} \\mathbf{\\Sigma} \\mathbf{V}^T)^T \\mathbf{U} \\mathbf{\\Sigma} \\mathbf{V}^T \\\\\n",
    "                            &= \\mathbf{V} \\mathbf{\\Sigma}^T \\mathbf{U}^T \\mathbf{U} \\mathbf{\\Sigma} \\mathbf{V}^T  \\\\ \n",
    "                            &= \\mathbf{V} \\mathbf{\\Sigma}^2 \\mathbf{V}^T  \\\\\n",
    "\\end{align}\n",
    "\n",
    "> So $\\Sigma^2$ are the eigenvalues of the correlation matrix and the $\\mathbf{V}'s$ are the respective eigenvectors. The right singular vectors $\\mathbf{V}$ in the SVD are just the eigenvectors of the column-wise correlation matrix. Likewise, we can substitute the reverse $\\mathbf{X} \\mathbf{X}^T$ to get $\\mathbf{U}$.\n",
    "\n",
    "---\n"
   ]
  },
  {
   "cell_type": "code",
   "execution_count": 5,
   "metadata": {
    "id": "b0nyZ_wxwJ9U"
   },
   "outputs": [],
   "source": [
    "'''\n",
    "Implement PCA using SVD\n",
    "'''\n",
    "# Apply SVD on the data\n",
    "U, S, Vt = np.linalg.svd(X)\n",
    "S_svd = np.diag(S)"
   ]
  },
  {
   "cell_type": "code",
   "execution_count": 6,
   "metadata": {
    "colab": {
     "base_uri": "https://localhost:8080/"
    },
    "id": "gumvGCr1wJ9U",
    "outputId": "2668f98b-0e75-4bbb-d4b2-72fc07a4406b"
   },
   "outputs": [
    {
     "data": {
      "text/plain": [
       "((30, 30), (10, 10), (10, 10))"
      ]
     },
     "execution_count": 6,
     "metadata": {},
     "output_type": "execute_result"
    }
   ],
   "source": [
    "U.shape, S_svd.shape, Vt.shape"
   ]
  },
  {
   "cell_type": "markdown",
   "metadata": {
    "id": "YbqQLEptwJ9W"
   },
   "source": [
    "Now we construct the low rank approximations of the data using the first $r$ principal components.\n",
    "\n",
    "We take the first $r$ columns of $\\mathbf{U}$ times the first $r \\times r$ block in $\\Sigma$, times the first $r$ columns of $\\mathbf{V}^T$. Using the slider it is clear that the error decreases as the rank increases."
   ]
  },
  {
   "cell_type": "code",
   "execution_count": 9,
   "metadata": {
    "id": "ntSigxUDtiZn"
   },
   "outputs": [],
   "source": [
    "X_svd_arr, E_svd_arr = [], []\n",
    "\n",
    "for r in np.arange(1, 11, 1):\n",
    "    # Reconstruct data using rank r columns\n",
    "    X_svd = U[:, :r] @ S_svd[0:r, :r] @ Vt[:r, :]\n",
    "    # Store \n",
    "    X_svd_arr.append(X_svd)\n",
    "    E_svd_arr.append(X - X_svd)\n",
    "\n",
    "X_svd_arr, E_svd_arr = np.array(X_svd_arr), np.array(E_svd_arr)"
   ]
  },
  {
   "cell_type": "code",
   "execution_count": 10,
   "metadata": {
    "colab": {
     "base_uri": "https://localhost:8080/",
     "height": 703,
     "referenced_widgets": [
      "682fa8f44c6445f09c6e25ba2a8661d1",
      "5604f6c600484b33aaa349594317c1a7",
      "0d4c9e1b63af4a59b96fe6335c16d30c",
      "b8be38d4446346bf88b49afa26e8311c",
      "01c154217c474f7287787ce429627243",
      "65973d9cd6c74289b685d93d6805c7c7",
      "6dd7ed50728c4f1ebeb2afd13f942dd1"
     ]
    },
    "id": "rNAitROJtdIY",
    "outputId": "44cc01ea-db60-4932-ad49-9f60e9a22d50"
   },
   "outputs": [
    {
     "data": {
      "image/png": "[encoded data removed]",
      "text/plain": [
       "<Figure size 864x864 with 6 Axes>"
      ]
     },
     "metadata": {
      "image/png": {
       "height": 654,
       "width": 717
      },
      "needs_background": "light"
     },
     "output_type": "display_data"
    }
   ],
   "source": [
    "browse_heatmaps(X, X_svd_arr, E_svd_arr)"
   ]
  },
  {
   "cell_type": "markdown",
   "metadata": {
    "id": "ZOfZ_9k9wJ9Z"
   },
   "source": [
    "### 2 PCA using the covariance method <a id='PCAcov'></a>\n"
   ]
  },
  {
   "cell_type": "markdown",
   "metadata": {
    "id": "5WmLK5fMzpPL"
   },
   "source": [
    "Another way to get the principal components is from the covariance matrix. Our data matrix $\\mathbf{X}$ has a mean of zero. \n",
    "\n",
    "All pairwise covariances are computed as follows\n",
    "\n",
    "- If $\\mathbf{X}$ is of the form (observations $\\times$ features)\n",
    "\\begin{align}\n",
    "    \\mathbb{Cov} = \\mathbf{X}^T \\mathbf{X} \\cdot \\frac{1}{n-1} \n",
    "\\end{align}\n",
    "- If $\\mathbf{X}$ is of the form (features $\\times$ observations)\n",
    "\\begin{align}\n",
    "    \\mathbb{Cov} = \\mathbf{X} \\mathbf{X}^T \\cdot \\frac{1}{n-1} \n",
    "\\end{align}\n",
    "where $n$ is the number of obervations."
   ]
  },
  {
   "cell_type": "code",
   "execution_count": null,
   "metadata": {
    "id": "k64RylJoTOSr"
   },
   "outputs": [],
   "source": [
    "Cov = X.T @ X / (n - 1)"
   ]
  },
  {
   "cell_type": "code",
   "execution_count": null,
   "metadata": {
    "colab": {
     "base_uri": "https://localhost:8080/"
    },
    "id": "F2nO5Ab-wJ9a",
    "outputId": "cd61d00b-7e76-4782-c148-06e2f6c31baa"
   },
   "outputs": [
    {
     "data": {
      "text/plain": [
       "(10, 10)"
      ]
     },
     "execution_count": 10,
     "metadata": {
      "tags": []
     },
     "output_type": "execute_result"
    }
   ],
   "source": [
    "Cov.shape # (p x p) = (features x features)"
   ]
  },
  {
   "cell_type": "markdown",
   "metadata": {
    "id": "iKPQXoi6wJ9b"
   },
   "source": [
    "We take the eigendecomposition of the covariance matrix, which returns a matrix with the eigenvalues and the respective eigenvectors"
   ]
  },
  {
   "cell_type": "code",
   "execution_count": null,
   "metadata": {
    "id": "5D0FG1A1wJ9c"
   },
   "outputs": [],
   "source": [
    "# Get the eigenvalues and right eigenvectors \n",
    "eigvals, eigvecs = np.linalg.eig(Cov)"
   ]
  },
  {
   "cell_type": "markdown",
   "metadata": {
    "id": "jrzSZBhtwJ9c"
   },
   "source": [
    "The largest eigenvalues correspond to the eigenvectors that capture most of the variance in our data. Thus, if we sort the eigenvectors by the eigenvalues in descending order we get the order of most relevant principal components."
   ]
  },
  {
   "cell_type": "code",
   "execution_count": null,
   "metadata": {
    "id": "CA0FvrvRwJ9c"
   },
   "outputs": [],
   "source": [
    "# Get the indices of the eigenvalues sorted in descending order\n",
    "idxsort = np.argsort(eigvals)[::-1]\n",
    "# Sort the eigenvalues and eigenvectors based on this order\n",
    "eigvals = eigvals[idxsort]\n",
    "eigvecs = eigvecs[:, idxsort]"
   ]
  },
  {
   "cell_type": "markdown",
   "metadata": {
    "id": "1xLSHXyfwJ9d"
   },
   "source": [
    "How well are the principal components able to estimate the true data matrix? \n",
    "\n",
    "- Lets take $\\mathbf{c}$ as the top principal component\n",
    "- The projection of each datapoint onto the top principal component is $\\mathbf{w} = \\mathbf{X c}$\n",
    "- The vector $\\mathbf{w}$ contains the “loadings” for each observation along this axis\n",
    "- The best approximation of the data is the outer product of $\\mathbf{w}$ and $\\mathbf{c}$: $\\mathbf{\\hat{X}} = \\mathbf{w} \\mathbf{c}^T$\n",
    "\n",
    "This can be generalised for $r$ PCs by \n",
    "\n",
    "\\begin{align}\n",
    "    \\mathbf{\\hat{X}} &= \\mathbf{W} \\mathbf{C}^T = \\sum_{i=1}^r \\mathbf{w}_r \\mathbf{c}_r^T\n",
    "\\end{align}\n",
    "\n",
    "- $\\mathbf{C}$ - principal components\n",
    "- $\\mathbf{W}$ - loadings"
   ]
  },
  {
   "cell_type": "code",
   "execution_count": null,
   "metadata": {
    "id": "4UG5rwsywJ9e"
   },
   "outputs": [],
   "source": [
    "X_cov_arr, E_cov_arr = [], []\n",
    "\n",
    "for r in np.arange(1, 11, 1): \n",
    "    # Take the first r eigenvectors that corresponds to the first r eigenvalues\n",
    "    C = eigvecs[:, :r]\n",
    "\n",
    "    # Get the projection of each datapoint onto these top r principal components\n",
    "    W = X @ C\n",
    "    \n",
    "    # Reconstruction of the data X using the r first PCs\n",
    "    X_approx = W @ C.T\n",
    "  \n",
    "    # Store\n",
    "    X_cov_arr.append(X_approx) \n",
    "    E_cov_arr.append(X - X_approx)\n",
    "\n",
    "X_cov_arr, E_cov_arr = np.array(X_cov_arr), np.array(E_cov_arr)"
   ]
  },
  {
   "cell_type": "code",
   "execution_count": null,
   "metadata": {
    "colab": {
     "base_uri": "https://localhost:8080/"
    },
    "id": "ZaQEM6D4EYnU",
    "outputId": "b2723e1f-de6b-408d-ee35-8c8ee28ee387"
   },
   "outputs": [
    {
     "data": {
      "text/plain": [
       "(30, 10)"
      ]
     },
     "execution_count": 14,
     "metadata": {
      "tags": []
     },
     "output_type": "execute_result"
    }
   ],
   "source": [
    "W.shape"
   ]
  },
  {
   "cell_type": "code",
   "execution_count": null,
   "metadata": {
    "colab": {
     "base_uri": "https://localhost:8080/"
    },
    "id": "zqqumONFwJ9e",
    "outputId": "e7e21d5f-dded-4928-adb9-323a70c0f4c2"
   },
   "outputs": [
    {
     "data": {
      "text/plain": [
       "((10, 30, 10), (10, 30, 10))"
      ]
     },
     "execution_count": 15,
     "metadata": {
      "tags": []
     },
     "output_type": "execute_result"
    }
   ],
   "source": [
    "X_cov_arr.shape, E_cov_arr.shape"
   ]
  },
  {
   "cell_type": "markdown",
   "metadata": {
    "id": "M4Tex3cewJ9f"
   },
   "source": [
    "Reconstructing the data with just one principal component does not seem enough. The error $\\mathbf{E}$ is quite large."
   ]
  },
  {
   "cell_type": "markdown",
   "metadata": {
    "id": "L09E5d3NwJ9g"
   },
   "source": [
    "Here we reconstruct the data with the first 3 PCs instead. Notice that the error $\\mathbf{E}$ is close to zero for many elements of the matrix. This shows that we are able to approximate the data reasonably well with just the first 3 principal components."
   ]
  },
  {
   "cell_type": "markdown",
   "metadata": {
    "id": "iMsQ__kXwJ9h"
   },
   "source": [
    "Use the slider to see how the estimates improve as more PCs are used."
   ]
  },
  {
   "cell_type": "code",
   "execution_count": null,
   "metadata": {
    "colab": {
     "base_uri": "https://localhost:8080/",
     "height": 703,
     "referenced_widgets": [
      "a0615f39a1c043e0a34367b81ad5b10a",
      "2bb39f4907ac42d3b43c1274856e2250",
      "f814ca096b284fb7ab6a296cef40f4fe",
      "7b04bab02b3e41f9aefc45109ed0585b",
      "8de3d14b64284e1daf09213f61252798",
      "d4368bcd3ade436898e849485a49cf29",
      "ee932c626a324070adb89adf2918f7fd"
     ]
    },
    "id": "T3fYzEjEwdt_",
    "outputId": "0db470d3-e176-4d17-89b6-695f6817218f"
   },
   "outputs": [
    {
     "data": {
      "application/vnd.jupyter.widget-view+json": {
       "model_id": "a0615f39a1c043e0a34367b81ad5b10a",
       "version_major": 2,
       "version_minor": 0
      },
      "text/plain": [
       "interactive(children=(IntSlider(value=4, description='r', max=9), Output()), _dom_classes=('widget-interact',)…"
      ]
     },
     "metadata": {
      "tags": []
     },
     "output_type": "display_data"
    }
   ],
   "source": [
    "browse_heatmaps(X, X_cov_arr, E_cov_arr)"
   ]
  },
  {
   "cell_type": "markdown",
   "metadata": {
    "id": "PHOG7c5iwJ9j"
   },
   "source": [
    "### 3 PCA using Sklearn <a id='PCAsk'></a>"
   ]
  },
  {
   "cell_type": "markdown",
   "metadata": {
    "id": "ne-Zx_tnwJ9j"
   },
   "source": [
    "Sklearn essentially uses the SVD to compute the Principal Components. We want to compare the results obtained with Sklearn to the methods in **1** and **2**."
   ]
  },
  {
   "cell_type": "code",
   "execution_count": null,
   "metadata": {
    "id": "0zTzTj7LwJ9k"
   },
   "outputs": [],
   "source": [
    "from sklearn.decomposition import PCA\n",
    "\n",
    "# Initialize the model, return all PCs\n",
    "pca = PCA() \n",
    "# Fit model on the data X\n",
    "pca.fit(X);"
   ]
  },
  {
   "cell_type": "code",
   "execution_count": null,
   "metadata": {
    "colab": {
     "base_uri": "https://localhost:8080/"
    },
    "id": "8b-sEQFzwJ9k",
    "outputId": "95a92066-5218-4a77-9669-55aae7cd792b"
   },
   "outputs": [
    {
     "data": {
      "text/plain": [
       "(10, 10)"
      ]
     },
     "execution_count": 18,
     "metadata": {
      "tags": []
     },
     "output_type": "execute_result"
    }
   ],
   "source": [
    "pca.components_.T.shape "
   ]
  },
  {
   "cell_type": "code",
   "execution_count": null,
   "metadata": {
    "id": "zdgo-PonwJ9k"
   },
   "outputs": [],
   "source": [
    "# The principal components, make sure they are structured in the form (n_features, n_components)\n",
    "C = pca.components_.T\n",
    "# The singular values\n",
    "S = np.diag(pca.singular_values_)"
   ]
  },
  {
   "cell_type": "code",
   "execution_count": null,
   "metadata": {
    "id": "xblGkwPXz3iA"
   },
   "outputs": [],
   "source": [
    "X_skl_arr, E_skl_arr = [], []\n",
    "\n",
    "for r in np.arange(1, 11, 1): \n",
    "\n",
    "  # Project each data point onto the first r columns\n",
    "  W = X @ C[:, :r]\n",
    "  \n",
    "  # Reconstruct the data using with the first r columns\n",
    "  X_skl = W @ C[:, :r].T\n",
    "\n",
    "  # Store\n",
    "  X_skl_arr.append(X_skl)\n",
    "  E_skl_arr.append(X - X_skl)\n",
    "\n",
    "X_skl_arr, E_skl_arr = np.array(X_skl_arr), np.array(E_skl_arr)"
   ]
  },
  {
   "cell_type": "code",
   "execution_count": null,
   "metadata": {
    "colab": {
     "base_uri": "https://localhost:8080/",
     "height": 703,
     "referenced_widgets": [
      "8607953368d14e2b9477e624b3a71026",
      "7f0a208097124587b2fa046dbd411124",
      "470bbad321d440be88fc3675e54c1582",
      "2fc2ce58ce764165805b8f3364e73b59",
      "f68304d4cbb8431fb318dea42da2cf53",
      "ab0114ddad72468796a774f85b651ae8",
      "6c1a3c6a9ecb4194b426866e0d29135b"
     ]
    },
    "id": "QU-Djz4b0i_F",
    "outputId": "2338a75e-208b-42f5-e8fb-e1a06af0462f"
   },
   "outputs": [
    {
     "data": {
      "application/vnd.jupyter.widget-view+json": {
       "model_id": "8607953368d14e2b9477e624b3a71026",
       "version_major": 2,
       "version_minor": 0
      },
      "text/plain": [
       "interactive(children=(IntSlider(value=4, description='r', max=9), Output()), _dom_classes=('widget-interact',)…"
      ]
     },
     "metadata": {
      "tags": []
     },
     "output_type": "display_data"
    }
   ],
   "source": [
    "browse_heatmaps(X, X_skl_arr, E_skl_arr)"
   ]
  },
  {
   "cell_type": "code",
   "execution_count": null,
   "metadata": {
    "colab": {
     "base_uri": "https://localhost:8080/",
     "height": 344
    },
    "id": "RgxXB3QuwJ9n",
    "outputId": "3120669d-4888-49b6-970c-f90613fbc9b7"
   },
   "outputs": [
    {
     "data": {
      "image/png": "[encoded data removed]",
      "text/plain": [
       "<Figure size 864x360 with 2 Axes>"
      ]
     },
     "metadata": {
      "image/png": {
       "height": 328,
       "width": 702
      },
      "needs_background": "light",
      "tags": []
     },
     "output_type": "display_data"
    }
   ],
   "source": [
    "fig, axs = plt.subplots(nrows=1, ncols=2, figsize=(12, 5))\n",
    "axs[0].plot(np.diag(S_svd)**2, label='SVD method')\n",
    "axs[0].set_title('Eigenvalues')\n",
    "axs[1].plot(np.cumsum(np.diag(S)**2)/np.sum(np.diag(S)**2))\n",
    "axs[1].plot(np.cumsum(np.diag(S_svd)**2)/np.sum(np.diag(S_svd)**2), label='SVD method')\n",
    "axs[1].set_title('Eigenvalues cumulative sum')\n",
    "axs[0].legend()\n",
    "axs[1].legend()\n",
    "sns.despine()"
   ]
  },
  {
   "cell_type": "markdown",
   "metadata": {
    "id": "xv4dsXCl28Vc"
   },
   "source": [
    "### 4 Sparse PCA using sklearn\n",
    "\n"
   ]
  },
  {
   "cell_type": "code",
   "execution_count": null,
   "metadata": {
    "id": "SJdhA2o-3thR"
   },
   "outputs": [],
   "source": [
    "'''\n",
    "Set parameters\n",
    "'''\n",
    "\n",
    "# L1 norm strength\n",
    "a = 1"
   ]
  },
  {
   "cell_type": "code",
   "execution_count": null,
   "metadata": {
    "colab": {
     "base_uri": "https://localhost:8080/"
    },
    "id": "wgDea_eE3IhC",
    "outputId": "cef74da8-d27d-4e22-c582-343bd624d21d"
   },
   "outputs": [
    {
     "name": "stdout",
     "output_type": "stream",
     "text": [
      "[dict_learning] .+++.+++.+++.+++\n"
     ]
    },
    {
     "name": "stderr",
     "output_type": "stream",
     "text": [
      "/usr/local/lib/python3.7/dist-packages/sklearn/decomposition/_sparse_pca.py:23: FutureWarning: 'normalize_components' has been deprecated in 0.22 and will be removed in 0.24. Remove the parameter from the  constructor.\n",
      "  \" constructor.\", FutureWarning\n"
     ]
    },
    {
     "data": {
      "text/plain": [
       "SparsePCA(U_init=None, V_init=None, alpha=1, max_iter=1000, method='lars',\n",
       "          n_components=10, n_jobs=None, normalize_components=True,\n",
       "          random_state=None, ridge_alpha=0.01, tol=1e-08, verbose=1)"
      ]
     },
     "execution_count": 58,
     "metadata": {
      "tags": []
     },
     "output_type": "execute_result"
    }
   ],
   "source": [
    "from sklearn.decomposition import SparsePCA\n",
    "\n",
    "# Initialize model \n",
    "spca = SparsePCA(n_components=X.shape[1], alpha=a, method='lars', verbose=1, tol=1e-8, normalize_components=True)\n",
    "# Fit the model to the data\n",
    "spca.fit(X)"
   ]
  },
  {
   "cell_type": "code",
   "execution_count": null,
   "metadata": {
    "colab": {
     "base_uri": "https://localhost:8080/"
    },
    "id": "Yxf5jcTL4Dno",
    "outputId": "915aa8fb-96ea-426c-a60d-0367aa650ab7"
   },
   "outputs": [
    {
     "data": {
      "text/plain": [
       "(10, 10)"
      ]
     },
     "execution_count": 59,
     "metadata": {
      "tags": []
     },
     "output_type": "execute_result"
    }
   ],
   "source": [
    "# Get PCs\n",
    "C_spca = spca.components_.T\n",
    "C_spca.shape # components x features"
   ]
  },
  {
   "cell_type": "code",
   "execution_count": null,
   "metadata": {
    "id": "cPHqVdkr5LIF"
   },
   "outputs": [],
   "source": [
    "X_spca_arr, E_spca_arr = [], []\n",
    "\n",
    "for r in np.arange(1, 11, 1): \n",
    "\n",
    "  # Project each data point onto the first r columns\n",
    "  W_spca = X @ C_spca[:, :r]\n",
    "  \n",
    "  # Reconstruct the data using with the first r columns\n",
    "  X_spca = W_spca @ C_spca[:, :r].T\n",
    "\n",
    "  # Store\n",
    "  X_spca_arr.append(X_skl)\n",
    "  E_spca_arr.append(X - X_skl)\n",
    "\n",
    "X_spca_arr, E_spca_arr = np.array(X_spca_arr), np.array(E_spca_arr)"
   ]
  },
  {
   "cell_type": "code",
   "execution_count": null,
   "metadata": {
    "colab": {
     "base_uri": "https://localhost:8080/",
     "height": 703,
     "referenced_widgets": [
      "c00e9ec0dfea4eaf8f566df01530466f",
      "fe011cf5d60b448fabd6b5bd0d34eb3b",
      "1cd816b537f24b719d9f02601e5eba60",
      "6c26b06470f541469e03183cd8c6111e",
      "0b396bbaca1d41cabead21730bd26370",
      "632df67110334c05bc222e060f878ec3",
      "e255fae2597b47db98e2711ba752bfb2"
     ]
    },
    "id": "s5nWiRnY5p0U",
    "outputId": "59fa2f2f-79ce-489f-ace8-895b148a64d8"
   },
   "outputs": [
    {
     "data": {
      "application/vnd.jupyter.widget-view+json": {
       "model_id": "c00e9ec0dfea4eaf8f566df01530466f",
       "version_major": 2,
       "version_minor": 0
      },
      "text/plain": [
       "interactive(children=(IntSlider(value=4, description='r', max=9), Output()), _dom_classes=('widget-interact',)…"
      ]
     },
     "metadata": {
      "tags": []
     },
     "output_type": "display_data"
    }
   ],
   "source": [
    "browse_heatmaps(X, X_spca_arr, E_spca_arr)"
   ]
  },
  {
   "cell_type": "code",
   "execution_count": null,
   "metadata": {
    "colab": {
     "base_uri": "https://localhost:8080/"
    },
    "id": "JEsgFH9h4e4d",
    "outputId": "f1ea5bf3-a346-46d1-ba21-431e61a4eef8"
   },
   "outputs": [
    {
     "data": {
      "text/plain": [
       "0.93"
      ]
     },
     "execution_count": 62,
     "metadata": {
      "tags": []
     },
     "output_type": "execute_result"
    }
   ],
   "source": [
    "np.mean(transformer.components_ == 0) # most values in the components_ are zero (sparsity)"
   ]
  },
  {
   "cell_type": "code",
   "execution_count": null,
   "metadata": {
    "colab": {
     "base_uri": "https://localhost:8080/"
    },
    "id": "_PN1diCH4oKq",
    "outputId": "df5ccaa4-15a0-40d8-b90b-98e9047adf18"
   },
   "outputs": [
    {
     "data": {
      "text/plain": [
       "[13.007748281295997,\n",
       " 11.748878574533926,\n",
       " 11.353129940019187,\n",
       " 11.353129940019185]"
      ]
     },
     "execution_count": 63,
     "metadata": {
      "tags": []
     },
     "output_type": "execute_result"
    }
   ],
   "source": [
    "spca.error_"
   ]
  },
  {
   "cell_type": "markdown",
   "metadata": {
    "id": "Q2Mh_GIaZjkS"
   },
   "source": [
    "### Compare loss and explained variances between 4 methods\n",
    "\n",
    "Note that the loss is the same across the used methods."
   ]
  },
  {
   "cell_type": "code",
   "execution_count": null,
   "metadata": {
    "colab": {
     "base_uri": "https://localhost:8080/",
     "height": 345
    },
    "id": "MzSr-_jw6WWn",
    "outputId": "3476d3ac-ff2b-4773-fa06-bdde469f06d3"
   },
   "outputs": [
    {
     "data": {
      "image/png": "[encoded data removed]",
      "text/plain": [
       "<Figure size 576x360 with 1 Axes>"
      ]
     },
     "metadata": {
      "image/png": {
       "height": 329,
       "width": 506
      },
      "needs_background": "light",
      "tags": []
     },
     "output_type": "display_data"
    }
   ],
   "source": [
    "fig, ax = plt.subplots(nrows=1, ncols=1, figsize=(8, 5))\n",
    "ax.plot([L(E_cov_arr[e]) for e in range(len(E_cov_arr))], '.-', label='COV method')\n",
    "ax.plot([L(E_svd_arr[e]) for e in range(len(E_svd_arr))], '.-', label='SVD method')\n",
    "ax.plot([L(E_skl_arr[e]) for e in range(len(E_skl_arr))], '.-', label='SKlearn method')\n",
    "ax.plot([L(E_spca_arr[e]) for e in range(len(E_spca_arr))], '.-', label='Sparse PCA method')\n",
    "ax.set_xlabel(r'Rank $r$')\n",
    "ax.set_ylabel(r'Loss, $|| \\mathbf{X} - \\mathbf{\\hat{X}} ||_F$')\n",
    "ax.legend()\n",
    "sns.despine()"
   ]
  },
  {
   "cell_type": "markdown",
   "metadata": {
    "id": "HqUaoEWaFrfn"
   },
   "source": [
    "### 5 PCA using regression <a id='PCAreg'></a>\n"
   ]
  },
  {
   "cell_type": "code",
   "execution_count": null,
   "metadata": {
    "id": "nBb-JQJZrnKD"
   },
   "outputs": [],
   "source": [
    "x = 3 # true slope\n",
    "a = np.arange(-2, 2, 0.25).reshape(-1, 1)\n",
    "b = x * a + np.random.randn(*a.shape) # add some noise\n",
    "\n",
    "fig, ax = plt.subplots(nrows=1, ncols=1, figsize=(8, 5))\n",
    "ax.plot(a, x*a, label='True line')\n",
    "ax.plot(a, b, 'x', label='Noisy data');\n",
    "\n",
    "# Take SVD\n",
    "U, S, Vt = np.linalg.svd(a, full_matrices=False)\n",
    "xtilde = Vt.T @ np.linalg.inv(np.diag(S)) @ U.T  @ b # Least squares fit\n",
    "\n",
    "ax.plot(a, xtilde * a, '--', label='Regression line')\n",
    "ax.set_xlabel(r'$\\mathbf{a}$')\n",
    "ax.set_ylabel(r'$\\mathbf{b}$')\n",
    "ax.legend()\n",
    "sns.despine()\n",
    "\n",
    "# Other method to compute regression\n",
    "#xtilde = np.linalg.inv(a) @ b # using the pseudo inverse"
   ]
  },
  {
   "cell_type": "markdown",
   "metadata": {
    "id": "ZezDapYOHdxS"
   },
   "source": [
    "\n",
    "The classical PCA problem is be formulated as follows. Let $\\mathbf{X} \\in \\mathbb{R}^{n\\times p}$ denote the given high dimensional data matrix with zero-mean columns for $n, p \\in \\mathbb{Z}$. Usually, we assume that $n \\geq p$ or $n \\gg p$, that is, $n$ is larger than or equal to $p$ or $n$ is much larger than $p$, respectively. \n",
    "\n",
    "$\\mathbf{W} \\in \\mathbb{R}^{n \\times p}$ is the matrix with the unit length $p$ principal components as columns. The associated loadings are the column vectors of the matrix $\\mathbf{C} \\in \\mathbb{R}^{p \\times p}$. The classical PCA objective function is then given by\n",
    "\\begin{align}\n",
    "  \\min_{\\mathbf{W},\\mathbf{C}} &\\quad\\left\\|\\mathbf{X} - \\mathbf{W}\\mathbf{C}^\\top\\right\\|_{F}^{2} \\\\\n",
    "  \\text{s.t.} &\\quad \\mathbf{C}^\\top\\mathbf{C}=\\mathbf{I}_p,\n",
    "\\end{align}\n",
    "where $\\|\\cdot\\|_{F}$ denotes the Frobenius norm and $\\mathbf{I}_p$ denotes the $p \\times p$ identity matrix. Note that we used that the Principal Components (PCs) are orthogonal in the above.\n",
    "\n",
    ">_Side note:_ One does not need to require that the principal components are of unit length. In fact, the length need not even be restricted. Nevertheless, this is generally not recommended as it leads to numerical instability and general confusion.\n",
    "\n",
    "It can easily be shown that the Singular Value Decomposition (SVD) of the matrix $\\mathbf{X}$ can be used to find a global optimum for the constrained classical PCA. The SVD of the matrix $\\mathbf{X}$ is given by \n",
    "\\begin{align}\n",
    "  \\mathbf{X} = \\mathbf{U}\\boldsymbol{\\Sigma}\\mathbf{V}^\\top,\n",
    "\\end{align}\n",
    "where $\\mathbf{U} \\in \\mathbb{R}^{n \\times n}$ and $\\mathbf{V} \\in \\mathbb{R}^{p \\times p}$ contain the unit length eigenvectors of $\\mathbf{X}\\mathbf{X}^{\\top}$ and $\\mathbf{X}^\\top\\mathbf{X}$ on the columns ranked by corresponding eigenvalue, respectively. Finally, the matrix $\\boldsymbol{\\Sigma}$ contains the $p$ possibly non-zero eigenvalues on the first $p$ diagonals followed by a $(n - p) \\times p$ matrix of zeros, that is,\n",
    "\\begin{align}\n",
    "  \\boldsymbol{\\Sigma} = \\begin{bmatrix}\n",
    "    \\lambda_{1} & 0 & 0 & \\ldots & 0 \\\\\n",
    "    0 & \\lambda_{2} & 0 & \\ldots & 0 \\\\\n",
    "    \\vdots & \\vdots & \\vdots & \\ddots & \\vdots \\\\\n",
    "    0 & 0 & 0 & \\ldots & \\lambda_{p} \\\\\n",
    "    0 & 0 & 0 & \\ldots & 0 \\\\\n",
    "    \\vdots & \\vdots & \\vdots & \\ddots & \\vdots \\\\\n",
    "    0 & 0 & 0 & \\vdots & 0\n",
    "  \\end{bmatrix},\n",
    "\\end{align}\n",
    "where $\\left\\{\\lambda_{i}\\right\\}_{i=1}^{p}$ are the $p$, possibly non-zero, eigenvalues. Note that we used that the remaining eigenvalues have to be zero as the matrices $\\mathbf{X}\\mathbf{X}^\\top$ and $\\mathbf{X}^\\top\\mathbf{X}$ have a rank that is smaller than or equal to $p$ (assuming $p \\leq n)$. Then, a global optimum to the principal components problem is obtained by\n",
    "\\begin{align}\n",
    "  \\mathbf{W} = \\mathbf{U}\\boldsymbol{\\Sigma} \\text{ and } \\mathbf{C} = \\mathbf{V}.\n",
    "\\end{align}\n",
    "\n",
    "Alternatively to the approach presented above, we can use regression to solve the PCA problem listed above. For the classical case, this approach does not make much sense. However, as we will see shortly, this approach allows us to introduce regularizations and additional restrictions to PCA.\n",
    "\n",
    "The regression approach follows from the fact Frobenius norm is nothing more than the sum of squares. Therefore, the problem presented above is a regression problem when fixing either $\\mathbf{W}$ or $\\mathbf{C}$. It can be shown that alternating between fixing $\\mathbf{W}$ and $\\mathbf{C}$ and then optimizing over the other matrix can be used to solve the PCA problem. The pseudo-code for this algorithm is given below. Note that the last three steps ensure the PCs have unit length.\n",
    "\n",
    "******\n",
    "**Algorithm 1**:  PCA by alternating minimization\n",
    "\n",
    "******\n",
    "1. $\\mathbf{W} \\leftarrow $ intial value\n",
    "2. $\\mathbf{C} \\leftarrow $ intial value\n",
    "3. $\\texttt{while}$ not converged:\n",
    "4. $\\qquad\\mathbf{W} \\leftarrow \\underset{\\mathbf{W}}{\\text{argmin}} \\left\\|\\mathbf{X} - \\mathbf{W}\\mathbf{C}^\\top\\right\\|_F^2$\n",
    "5. $\\qquad\\mathbf{C} \\leftarrow \\underset{\\mathbf{C}}{\\text{argmin}} \\left\\|\\mathbf{X} - \\mathbf{W}\\mathbf{C}^\\top\\right\\|_F^2$\n",
    "6. $\\mathbf{A} \\leftarrow \\mathbf{S}^\\top\\mathbf{S}$\n",
    "7. $\\mathbf{W} \\leftarrow \\mathbf{W}\\mathbf{A}$\n",
    "8. $\\mathbf{S} \\leftarrow \\mathbf{S}\\mathbf{A}^{-1}$\n",
    "******\n"
   ]
  },
  {
   "cell_type": "code",
   "execution_count": null,
   "metadata": {
    "id": "eOtPpmSC_Jk3"
   },
   "outputs": [],
   "source": [
    "# Specify maximum number of iterations and \n",
    "max_iter = 100\n",
    "tol = 1e-4\n",
    "\n",
    "# Define loss function\n",
    "L = lambda X, W, C: np.power(np.linalg.norm(X - W @ C.T, 'fro'), 2)\n",
    "\n",
    "loss = []\n",
    "loss.append(100)"
   ]
  },
  {
   "cell_type": "code",
   "execution_count": null,
   "metadata": {
    "id": "h56AZDeqENGL"
   },
   "outputs": [],
   "source": [
    "W = np.random.rand((n, p))\n",
    "S = np.random.rand((p, p))\n",
    "\n",
    "for i in range()\n",
    "\n",
    "  loss.append(L(X, W, C))\n",
    "  \n",
    "  if (loss[i] - loss[i-1] / loss[i-1])"
   ]
  },
  {
   "cell_type": "code",
   "execution_count": null,
   "metadata": {
    "id": "RHRD7-JjNAp4"
   },
   "outputs": [],
   "source": [
    "S = np.vstack((np.eye(p), np.zeros((n - p, p))))\n",
    "W = np.random.rand(p, p)\n",
    "loss = np.power(np.linalg.norm(X - S @ W.T, 'fro'), 2)\n",
    "for i in range(max_iter):\n",
    "    W = (np.linalg.inv(S.T @ S) @ S.T @ X).T\n",
    "    S = (np.linalg.inv(W.T @ W) @ W.T @ X.T).T\n",
    "    next_loss = np.power(np.linalg.norm(X - S @ W.T, 'fro'), 2)\n",
    "    if ((next_loss - loss) / loss) < tol:\n",
    "      break\n",
    "    loss = next_loss\n",
    "else: \n",
    "    warnings.warn('Algorithm did not converge')\n",
    "A = S.T @ S\n",
    "W_reg = W @ A\n",
    "S_reg = S @ np.linalg.inv(A)"
   ]
  },
  {
   "cell_type": "code",
   "execution_count": null,
   "metadata": {
    "id": "6yftrswpS0iM"
   },
   "outputs": [],
   "source": [
    "print(f'Example - Regression\\nS = {S_reg}\\n\\nW = {W_reg}')"
   ]
  },
  {
   "cell_type": "markdown",
   "metadata": {
    "id": "e-poBlPlwJ92"
   },
   "source": [
    "### 6 PCA extensions "
   ]
  },
  {
   "cell_type": "markdown",
   "metadata": {
    "id": "fz8xioxjMn_z"
   },
   "source": [
    "#### 6.1 Regularisation\n",
    "\n",
    "As a loose analogy, think of solution space of the matrices $\\mathbf{W}$ and $\\mathbf{C}$ as an energy landschape. The solution, that is, a particular parameterisation of $\\mathbf{W}$ and $\\mathbf{C}$ that the model will converge to is one with a very low loss or cost: a combination of $\\mathbf{W}\\mathbf{C}^\\top = \\hat{\\mathbf{X}}$ that is close to $\\mathbf{X}$.\n",
    "\n",
    "The resulting solution is not unique. There are an infinite number of solutions that are roughly the same in terms of loss (rotation problem). However, we probably favor some solutions over others. For example, if I'd ask you to come up with a solution to the simple system\n",
    "\\begin{align}\n",
    "  x + y = 10\n",
    "\\end{align}\n",
    "you can list an infinite number of possible combinations for x and y that are all equally valid. $5, 5$ is a logical solution, or $2$ and $8$, but also $-1050,1060$ and $985, -975$ and so on..\n",
    "\n",
    "The point is that we favor simple solutions (think about Occams razor), solutions that are close to zero. These are more *interpretable*. So we want to nudge our model a bit, guide it towards the simpler solutions. This is done by adding a regularization term. We include penalty term for solutions for $\\mathbf{W}, \\mathbf{C}$ that are far away from zero. Think of it as adding a layer on top of the energy landscape. Our resulting solutions may be a little bit less accurate, but that's ok. We are happy to trade some accuracy for interpretability.\n",
    "\n"
   ]
  },
  {
   "cell_type": "markdown",
   "metadata": {
    "id": "bdfm5ZnIMk1s"
   },
   "source": [
    "#### 6.2 Weighted PCA\n",
    "\n",
    "Some electrodes cover more neurons than others. In our electrodes, the variance between number of neurons covered per electrode is quite large.\n",
    "\n",
    "One thing that can be done is to reweight the data $\\mathbf{X}$ based on the amount of neurons on that electrode. "
   ]
  },
  {
   "cell_type": "markdown",
   "metadata": {
    "id": "xWz-M6aohq4e"
   },
   "source": [
    "### 6.3 Regularization for distances"
   ]
  },
  {
   "cell_type": "code",
   "execution_count": null,
   "metadata": {
    "id": "flFr11XuAGuU"
   },
   "outputs": [],
   "source": [
    " "
   ]
  },
  {
   "cell_type": "code",
   "execution_count": null,
   "metadata": {
    "id": "C1xKrHSDAFot"
   },
   "outputs": [],
   "source": []
  },
  {
   "cell_type": "code",
   "execution_count": null,
   "metadata": {
    "id": "cADDvjjZwJ93"
   },
   "outputs": [],
   "source": []
  },
  {
   "cell_type": "code",
   "execution_count": null,
   "metadata": {
    "id": "F7BLgdYHwJ93"
   },
   "outputs": [],
   "source": []
  }
 ],
 "metadata": {
  "colab": {
   "collapsed_sections": [],
   "name": "VariousPCAs.ipynb",
   "provenance": [],
   "toc_visible": true
  },
  "kernelspec": {
   "display_name": "Python 3",
   "language": "python",
   "name": "python3"
  },
  "language_info": {
   "codemirror_mode": {
    "name": "ipython",
    "version": 3
   },
   "file_extension": ".py",
   "mimetype": "text/x-python",
   "name": "python",
   "nbconvert_exporter": "python",
   "pygments_lexer": "ipython3",
   "version": "3.7.4"
  },
  "widgets": {
   "application/vnd.jupyter.widget-state+json": {
    "01c154217c474f7287787ce429627243": {
     "model_module": "@jupyter-widgets/controls",
     "model_name": "SliderStyleModel",
     "state": {
      "_model_module": "@jupyter-widgets/controls",
      "_model_module_version": "1.5.0",
      "_model_name": "SliderStyleModel",
      "_view_count": null,
      "_view_module": "@jupyter-widgets/base",
      "_view_module_version": "1.2.0",
      "_view_name": "StyleView",
      "description_width": "",
      "handle_color": null
     }
    },
    "0b396bbaca1d41cabead21730bd26370": {
     "model_module": "@jupyter-widgets/controls",
     "model_name": "SliderStyleModel",
     "state": {
      "_model_module": "@jupyter-widgets/controls",
      "_model_module_version": "1.5.0",
      "_model_name": "SliderStyleModel",
      "_view_count": null,
      "_view_module": "@jupyter-widgets/base",
      "_view_module_version": "1.2.0",
      "_view_name": "StyleView",
      "description_width": "",
      "handle_color": null
     }
    },
    "0d4c9e1b63af4a59b96fe6335c16d30c": {
     "model_module": "@jupyter-widgets/controls",
     "model_name": "IntSliderModel",
     "state": {
      "_dom_classes": [],
      "_model_module": "@jupyter-widgets/controls",
      "_model_module_version": "1.5.0",
      "_model_name": "IntSliderModel",
      "_view_count": null,
      "_view_module": "@jupyter-widgets/controls",
      "_view_module_version": "1.5.0",
      "_view_name": "IntSliderView",
      "continuous_update": true,
      "description": "r",
      "description_tooltip": null,
      "disabled": false,
      "layout": "IPY_MODEL_65973d9cd6c74289b685d93d6805c7c7",
      "max": 9,
      "min": 0,
      "orientation": "horizontal",
      "readout": true,
      "readout_format": "d",
      "step": 1,
      "style": "IPY_MODEL_01c154217c474f7287787ce429627243",
      "value": 4
     }
    },
    "1cd816b537f24b719d9f02601e5eba60": {
     "model_module": "@jupyter-widgets/controls",
     "model_name": "IntSliderModel",
     "state": {
      "_dom_classes": [],
      "_model_module": "@jupyter-widgets/controls",
      "_model_module_version": "1.5.0",
      "_model_name": "IntSliderModel",
      "_view_count": null,
      "_view_module": "@jupyter-widgets/controls",
      "_view_module_version": "1.5.0",
      "_view_name": "IntSliderView",
      "continuous_update": true,
      "description": "r",
      "description_tooltip": null,
      "disabled": false,
      "layout": "IPY_MODEL_632df67110334c05bc222e060f878ec3",
      "max": 9,
      "min": 0,
      "orientation": "horizontal",
      "readout": true,
      "readout_format": "d",
      "step": 1,
      "style": "IPY_MODEL_0b396bbaca1d41cabead21730bd26370",
      "value": 4
     }
    },
    "2bb39f4907ac42d3b43c1274856e2250": {
     "model_module": "@jupyter-widgets/base",
     "model_name": "LayoutModel",
     "state": {
      "_model_module": "@jupyter-widgets/base",
      "_model_module_version": "1.2.0",
      "_model_name": "LayoutModel",
      "_view_count": null,
      "_view_module": "@jupyter-widgets/base",
      "_view_module_version": "1.2.0",
      "_view_name": "LayoutView",
      "align_content": null,
      "align_items": null,
      "align_self": null,
      "border": null,
      "bottom": null,
      "display": null,
      "flex": null,
      "flex_flow": null,
      "grid_area": null,
      "grid_auto_columns": null,
      "grid_auto_flow": null,
      "grid_auto_rows": null,
      "grid_column": null,
      "grid_gap": null,
      "grid_row": null,
      "grid_template_areas": null,
      "grid_template_columns": null,
      "grid_template_rows": null,
      "height": null,
      "justify_content": null,
      "justify_items": null,
      "left": null,
      "margin": null,
      "max_height": null,
      "max_width": null,
      "min_height": null,
      "min_width": null,
      "object_fit": null,
      "object_position": null,
      "order": null,
      "overflow": null,
      "overflow_x": null,
      "overflow_y": null,
      "padding": null,
      "right": null,
      "top": null,
      "visibility": null,
      "width": null
     }
    },
    "2fc2ce58ce764165805b8f3364e73b59": {
     "model_module": "@jupyter-widgets/output",
     "model_name": "OutputModel",
     "state": {
      "_dom_classes": [],
      "_model_module": "@jupyter-widgets/output",
      "_model_module_version": "1.0.0",
      "_model_name": "OutputModel",
      "_view_count": null,
      "_view_module": "@jupyter-widgets/output",
      "_view_module_version": "1.0.0",
      "_view_name": "OutputView",
      "layout": "IPY_MODEL_6c1a3c6a9ecb4194b426866e0d29135b",
      "msg_id": "",
      "outputs": [
       {
        "image/png": "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\n",
        "metadata": {
         "image/png": {
          "height": 654,
          "width": 723
         },
         "needs_background": "light",
         "tags": []
        },
        "output_type": "display_data",
        "text/plain": "<Figure size 864x864 with 6 Axes>"
       }
      ]
     }
    },
    "470bbad321d440be88fc3675e54c1582": {
     "model_module": "@jupyter-widgets/controls",
     "model_name": "IntSliderModel",
     "state": {
      "_dom_classes": [],
      "_model_module": "@jupyter-widgets/controls",
      "_model_module_version": "1.5.0",
      "_model_name": "IntSliderModel",
      "_view_count": null,
      "_view_module": "@jupyter-widgets/controls",
      "_view_module_version": "1.5.0",
      "_view_name": "IntSliderView",
      "continuous_update": true,
      "description": "r",
      "description_tooltip": null,
      "disabled": false,
      "layout": "IPY_MODEL_ab0114ddad72468796a774f85b651ae8",
      "max": 9,
      "min": 0,
      "orientation": "horizontal",
      "readout": true,
      "readout_format": "d",
      "step": 1,
      "style": "IPY_MODEL_f68304d4cbb8431fb318dea42da2cf53",
      "value": 0
     }
    },
    "5604f6c600484b33aaa349594317c1a7": {
     "model_module": "@jupyter-widgets/base",
     "model_name": "LayoutModel",
     "state": {
      "_model_module": "@jupyter-widgets/base",
      "_model_module_version": "1.2.0",
      "_model_name": "LayoutModel",
      "_view_count": null,
      "_view_module": "@jupyter-widgets/base",
      "_view_module_version": "1.2.0",
      "_view_name": "LayoutView",
      "align_content": null,
      "align_items": null,
      "align_self": null,
      "border": null,
      "bottom": null,
      "display": null,
      "flex": null,
      "flex_flow": null,
      "grid_area": null,
      "grid_auto_columns": null,
      "grid_auto_flow": null,
      "grid_auto_rows": null,
      "grid_column": null,
      "grid_gap": null,
      "grid_row": null,
      "grid_template_areas": null,
      "grid_template_columns": null,
      "grid_template_rows": null,
      "height": null,
      "justify_content": null,
      "justify_items": null,
      "left": null,
      "margin": null,
      "max_height": null,
      "max_width": null,
      "min_height": null,
      "min_width": null,
      "object_fit": null,
      "object_position": null,
      "order": null,
      "overflow": null,
      "overflow_x": null,
      "overflow_y": null,
      "padding": null,
      "right": null,
      "top": null,
      "visibility": null,
      "width": null
     }
    },
    "632df67110334c05bc222e060f878ec3": {
     "model_module": "@jupyter-widgets/base",
     "model_name": "LayoutModel",
     "state": {
      "_model_module": "@jupyter-widgets/base",
      "_model_module_version": "1.2.0",
      "_model_name": "LayoutModel",
      "_view_count": null,
      "_view_module": "@jupyter-widgets/base",
      "_view_module_version": "1.2.0",
      "_view_name": "LayoutView",
      "align_content": null,
      "align_items": null,
      "align_self": null,
      "border": null,
      "bottom": null,
      "display": null,
      "flex": null,
      "flex_flow": null,
      "grid_area": null,
      "grid_auto_columns": null,
      "grid_auto_flow": null,
      "grid_auto_rows": null,
      "grid_column": null,
      "grid_gap": null,
      "grid_row": null,
      "grid_template_areas": null,
      "grid_template_columns": null,
      "grid_template_rows": null,
      "height": null,
      "justify_content": null,
      "justify_items": null,
      "left": null,
      "margin": null,
      "max_height": null,
      "max_width": null,
      "min_height": null,
      "min_width": null,
      "object_fit": null,
      "object_position": null,
      "order": null,
      "overflow": null,
      "overflow_x": null,
      "overflow_y": null,
      "padding": null,
      "right": null,
      "top": null,
      "visibility": null,
      "width": null
     }
    },
    "65973d9cd6c74289b685d93d6805c7c7": {
     "model_module": "@jupyter-widgets/base",
     "model_name": "LayoutModel",
     "state": {
      "_model_module": "@jupyter-widgets/base",
      "_model_module_version": "1.2.0",
      "_model_name": "LayoutModel",
      "_view_count": null,
      "_view_module": "@jupyter-widgets/base",
      "_view_module_version": "1.2.0",
      "_view_name": "LayoutView",
      "align_content": null,
      "align_items": null,
      "align_self": null,
      "border": null,
      "bottom": null,
      "display": null,
      "flex": null,
      "flex_flow": null,
      "grid_area": null,
      "grid_auto_columns": null,
      "grid_auto_flow": null,
      "grid_auto_rows": null,
      "grid_column": null,
      "grid_gap": null,
      "grid_row": null,
      "grid_template_areas": null,
      "grid_template_columns": null,
      "grid_template_rows": null,
      "height": null,
      "justify_content": null,
      "justify_items": null,
      "left": null,
      "margin": null,
      "max_height": null,
      "max_width": null,
      "min_height": null,
      "min_width": null,
      "object_fit": null,
      "object_position": null,
      "order": null,
      "overflow": null,
      "overflow_x": null,
      "overflow_y": null,
      "padding": null,
      "right": null,
      "top": null,
      "visibility": null,
      "width": null
     }
    },
    "682fa8f44c6445f09c6e25ba2a8661d1": {
     "model_module": "@jupyter-widgets/controls",
     "model_name": "VBoxModel",
     "state": {
      "_dom_classes": [
       "widget-interact"
      ],
      "_model_module": "@jupyter-widgets/controls",
      "_model_module_version": "1.5.0",
      "_model_name": "VBoxModel",
      "_view_count": null,
      "_view_module": "@jupyter-widgets/controls",
      "_view_module_version": "1.5.0",
      "_view_name": "VBoxView",
      "box_style": "",
      "children": [
       "IPY_MODEL_0d4c9e1b63af4a59b96fe6335c16d30c",
       "IPY_MODEL_b8be38d4446346bf88b49afa26e8311c"
      ],
      "layout": "IPY_MODEL_5604f6c600484b33aaa349594317c1a7"
     }
    },
    "6c1a3c6a9ecb4194b426866e0d29135b": {
     "model_module": "@jupyter-widgets/base",
     "model_name": "LayoutModel",
     "state": {
      "_model_module": "@jupyter-widgets/base",
      "_model_module_version": "1.2.0",
      "_model_name": "LayoutModel",
      "_view_count": null,
      "_view_module": "@jupyter-widgets/base",
      "_view_module_version": "1.2.0",
      "_view_name": "LayoutView",
      "align_content": null,
      "align_items": null,
      "align_self": null,
      "border": null,
      "bottom": null,
      "display": null,
      "flex": null,
      "flex_flow": null,
      "grid_area": null,
      "grid_auto_columns": null,
      "grid_auto_flow": null,
      "grid_auto_rows": null,
      "grid_column": null,
      "grid_gap": null,
      "grid_row": null,
      "grid_template_areas": null,
      "grid_template_columns": null,
      "grid_template_rows": null,
      "height": null,
      "justify_content": null,
      "justify_items": null,
      "left": null,
      "margin": null,
      "max_height": null,
      "max_width": null,
      "min_height": null,
      "min_width": null,
      "object_fit": null,
      "object_position": null,
      "order": null,
      "overflow": null,
      "overflow_x": null,
      "overflow_y": null,
      "padding": null,
      "right": null,
      "top": null,
      "visibility": null,
      "width": null
     }
    },
    "6c26b06470f541469e03183cd8c6111e": {
     "model_module": "@jupyter-widgets/output",
     "model_name": "OutputModel",
     "state": {
      "_dom_classes": [],
      "_model_module": "@jupyter-widgets/output",
      "_model_module_version": "1.0.0",
      "_model_name": "OutputModel",
      "_view_count": null,
      "_view_module": "@jupyter-widgets/output",
      "_view_module_version": "1.0.0",
      "_view_name": "OutputView",
      "layout": "IPY_MODEL_e255fae2597b47db98e2711ba752bfb2",
      "msg_id": "",
      "outputs": [
       {
        "image/png": "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\n",
        "metadata": {
         "image/png": {
          "height": 654,
          "width": 723
         },
         "needs_background": "light",
         "tags": []
        },
        "output_type": "display_data",
        "text/plain": "<Figure size 864x864 with 6 Axes>"
       }
      ]
     }
    },
    "6dd7ed50728c4f1ebeb2afd13f942dd1": {
     "model_module": "@jupyter-widgets/base",
     "model_name": "LayoutModel",
     "state": {
      "_model_module": "@jupyter-widgets/base",
      "_model_module_version": "1.2.0",
      "_model_name": "LayoutModel",
      "_view_count": null,
      "_view_module": "@jupyter-widgets/base",
      "_view_module_version": "1.2.0",
      "_view_name": "LayoutView",
      "align_content": null,
      "align_items": null,
      "align_self": null,
      "border": null,
      "bottom": null,
      "display": null,
      "flex": null,
      "flex_flow": null,
      "grid_area": null,
      "grid_auto_columns": null,
      "grid_auto_flow": null,
      "grid_auto_rows": null,
      "grid_column": null,
      "grid_gap": null,
      "grid_row": null,
      "grid_template_areas": null,
      "grid_template_columns": null,
      "grid_template_rows": null,
      "height": null,
      "justify_content": null,
      "justify_items": null,
      "left": null,
      "margin": null,
      "max_height": null,
      "max_width": null,
      "min_height": null,
      "min_width": null,
      "object_fit": null,
      "object_position": null,
      "order": null,
      "overflow": null,
      "overflow_x": null,
      "overflow_y": null,
      "padding": null,
      "right": null,
      "top": null,
      "visibility": null,
      "width": null
     }
    },
    "7b04bab02b3e41f9aefc45109ed0585b": {
     "model_module": "@jupyter-widgets/output",
     "model_name": "OutputModel",
     "state": {
      "_dom_classes": [],
      "_model_module": "@jupyter-widgets/output",
      "_model_module_version": "1.0.0",
      "_model_name": "OutputModel",
      "_view_count": null,
      "_view_module": "@jupyter-widgets/output",
      "_view_module_version": "1.0.0",
      "_view_name": "OutputView",
      "layout": "IPY_MODEL_ee932c626a324070adb89adf2918f7fd",
      "msg_id": "",
      "outputs": [
       {
        "image/png": "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\n",
        "metadata": {
         "image/png": {
          "height": 654,
          "width": 723
         },
         "needs_background": "light",
         "tags": []
        },
        "output_type": "display_data",
        "text/plain": "<Figure size 864x864 with 6 Axes>"
       }
      ]
     }
    },
    "7f0a208097124587b2fa046dbd411124": {
     "model_module": "@jupyter-widgets/base",
     "model_name": "LayoutModel",
     "state": {
      "_model_module": "@jupyter-widgets/base",
      "_model_module_version": "1.2.0",
      "_model_name": "LayoutModel",
      "_view_count": null,
      "_view_module": "@jupyter-widgets/base",
      "_view_module_version": "1.2.0",
      "_view_name": "LayoutView",
      "align_content": null,
      "align_items": null,
      "align_self": null,
      "border": null,
      "bottom": null,
      "display": null,
      "flex": null,
      "flex_flow": null,
      "grid_area": null,
      "grid_auto_columns": null,
      "grid_auto_flow": null,
      "grid_auto_rows": null,
      "grid_column": null,
      "grid_gap": null,
      "grid_row": null,
      "grid_template_areas": null,
      "grid_template_columns": null,
      "grid_template_rows": null,
      "height": null,
      "justify_content": null,
      "justify_items": null,
      "left": null,
      "margin": null,
      "max_height": null,
      "max_width": null,
      "min_height": null,
      "min_width": null,
      "object_fit": null,
      "object_position": null,
      "order": null,
      "overflow": null,
      "overflow_x": null,
      "overflow_y": null,
      "padding": null,
      "right": null,
      "top": null,
      "visibility": null,
      "width": null
     }
    },
    "8607953368d14e2b9477e624b3a71026": {
     "model_module": "@jupyter-widgets/controls",
     "model_name": "VBoxModel",
     "state": {
      "_dom_classes": [
       "widget-interact"
      ],
      "_model_module": "@jupyter-widgets/controls",
      "_model_module_version": "1.5.0",
      "_model_name": "VBoxModel",
      "_view_count": null,
      "_view_module": "@jupyter-widgets/controls",
      "_view_module_version": "1.5.0",
      "_view_name": "VBoxView",
      "box_style": "",
      "children": [
       "IPY_MODEL_470bbad321d440be88fc3675e54c1582",
       "IPY_MODEL_2fc2ce58ce764165805b8f3364e73b59"
      ],
      "layout": "IPY_MODEL_7f0a208097124587b2fa046dbd411124"
     }
    },
    "8de3d14b64284e1daf09213f61252798": {
     "model_module": "@jupyter-widgets/controls",
     "model_name": "SliderStyleModel",
     "state": {
      "_model_module": "@jupyter-widgets/controls",
      "_model_module_version": "1.5.0",
      "_model_name": "SliderStyleModel",
      "_view_count": null,
      "_view_module": "@jupyter-widgets/base",
      "_view_module_version": "1.2.0",
      "_view_name": "StyleView",
      "description_width": "",
      "handle_color": null
     }
    },
    "a0615f39a1c043e0a34367b81ad5b10a": {
     "model_module": "@jupyter-widgets/controls",
     "model_name": "VBoxModel",
     "state": {
      "_dom_classes": [
       "widget-interact"
      ],
      "_model_module": "@jupyter-widgets/controls",
      "_model_module_version": "1.5.0",
      "_model_name": "VBoxModel",
      "_view_count": null,
      "_view_module": "@jupyter-widgets/controls",
      "_view_module_version": "1.5.0",
      "_view_name": "VBoxView",
      "box_style": "",
      "children": [
       "IPY_MODEL_f814ca096b284fb7ab6a296cef40f4fe",
       "IPY_MODEL_7b04bab02b3e41f9aefc45109ed0585b"
      ],
      "layout": "IPY_MODEL_2bb39f4907ac42d3b43c1274856e2250"
     }
    },
    "ab0114ddad72468796a774f85b651ae8": {
     "model_module": "@jupyter-widgets/base",
     "model_name": "LayoutModel",
     "state": {
      "_model_module": "@jupyter-widgets/base",
      "_model_module_version": "1.2.0",
      "_model_name": "LayoutModel",
      "_view_count": null,
      "_view_module": "@jupyter-widgets/base",
      "_view_module_version": "1.2.0",
      "_view_name": "LayoutView",
      "align_content": null,
      "align_items": null,
      "align_self": null,
      "border": null,
      "bottom": null,
      "display": null,
      "flex": null,
      "flex_flow": null,
      "grid_area": null,
      "grid_auto_columns": null,
      "grid_auto_flow": null,
      "grid_auto_rows": null,
      "grid_column": null,
      "grid_gap": null,
      "grid_row": null,
      "grid_template_areas": null,
      "grid_template_columns": null,
      "grid_template_rows": null,
      "height": null,
      "justify_content": null,
      "justify_items": null,
      "left": null,
      "margin": null,
      "max_height": null,
      "max_width": null,
      "min_height": null,
      "min_width": null,
      "object_fit": null,
      "object_position": null,
      "order": null,
      "overflow": null,
      "overflow_x": null,
      "overflow_y": null,
      "padding": null,
      "right": null,
      "top": null,
      "visibility": null,
      "width": null
     }
    },
    "b8be38d4446346bf88b49afa26e8311c": {
     "model_module": "@jupyter-widgets/output",
     "model_name": "OutputModel",
     "state": {
      "_dom_classes": [],
      "_model_module": "@jupyter-widgets/output",
      "_model_module_version": "1.0.0",
      "_model_name": "OutputModel",
      "_view_count": null,
      "_view_module": "@jupyter-widgets/output",
      "_view_module_version": "1.0.0",
      "_view_name": "OutputView",
      "layout": "IPY_MODEL_6dd7ed50728c4f1ebeb2afd13f942dd1",
      "msg_id": "",
      "outputs": [
       {
        "image/png": "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\n",
        "metadata": {
         "image/png": {
          "height": 654,
          "width": 723
         },
         "needs_background": "light",
         "tags": []
        },
        "output_type": "display_data",
        "text/plain": "<Figure size 864x864 with 6 Axes>"
       }
      ]
     }
    },
    "c00e9ec0dfea4eaf8f566df01530466f": {
     "model_module": "@jupyter-widgets/controls",
     "model_name": "VBoxModel",
     "state": {
      "_dom_classes": [
       "widget-interact"
      ],
      "_model_module": "@jupyter-widgets/controls",
      "_model_module_version": "1.5.0",
      "_model_name": "VBoxModel",
      "_view_count": null,
      "_view_module": "@jupyter-widgets/controls",
      "_view_module_version": "1.5.0",
      "_view_name": "VBoxView",
      "box_style": "",
      "children": [
       "IPY_MODEL_1cd816b537f24b719d9f02601e5eba60",
       "IPY_MODEL_6c26b06470f541469e03183cd8c6111e"
      ],
      "layout": "IPY_MODEL_fe011cf5d60b448fabd6b5bd0d34eb3b"
     }
    },
    "d4368bcd3ade436898e849485a49cf29": {
     "model_module": "@jupyter-widgets/base",
     "model_name": "LayoutModel",
     "state": {
      "_model_module": "@jupyter-widgets/base",
      "_model_module_version": "1.2.0",
      "_model_name": "LayoutModel",
      "_view_count": null,
      "_view_module": "@jupyter-widgets/base",
      "_view_module_version": "1.2.0",
      "_view_name": "LayoutView",
      "align_content": null,
      "align_items": null,
      "align_self": null,
      "border": null,
      "bottom": null,
      "display": null,
      "flex": null,
      "flex_flow": null,
      "grid_area": null,
      "grid_auto_columns": null,
      "grid_auto_flow": null,
      "grid_auto_rows": null,
      "grid_column": null,
      "grid_gap": null,
      "grid_row": null,
      "grid_template_areas": null,
      "grid_template_columns": null,
      "grid_template_rows": null,
      "height": null,
      "justify_content": null,
      "justify_items": null,
      "left": null,
      "margin": null,
      "max_height": null,
      "max_width": null,
      "min_height": null,
      "min_width": null,
      "object_fit": null,
      "object_position": null,
      "order": null,
      "overflow": null,
      "overflow_x": null,
      "overflow_y": null,
      "padding": null,
      "right": null,
      "top": null,
      "visibility": null,
      "width": null
     }
    },
    "e255fae2597b47db98e2711ba752bfb2": {
     "model_module": "@jupyter-widgets/base",
     "model_name": "LayoutModel",
     "state": {
      "_model_module": "@jupyter-widgets/base",
      "_model_module_version": "1.2.0",
      "_model_name": "LayoutModel",
      "_view_count": null,
      "_view_module": "@jupyter-widgets/base",
      "_view_module_version": "1.2.0",
      "_view_name": "LayoutView",
      "align_content": null,
      "align_items": null,
      "align_self": null,
      "border": null,
      "bottom": null,
      "display": null,
      "flex": null,
      "flex_flow": null,
      "grid_area": null,
      "grid_auto_columns": null,
      "grid_auto_flow": null,
      "grid_auto_rows": null,
      "grid_column": null,
      "grid_gap": null,
      "grid_row": null,
      "grid_template_areas": null,
      "grid_template_columns": null,
      "grid_template_rows": null,
      "height": null,
      "justify_content": null,
      "justify_items": null,
      "left": null,
      "margin": null,
      "max_height": null,
      "max_width": null,
      "min_height": null,
      "min_width": null,
      "object_fit": null,
      "object_position": null,
      "order": null,
      "overflow": null,
      "overflow_x": null,
      "overflow_y": null,
      "padding": null,
      "right": null,
      "top": null,
      "visibility": null,
      "width": null
     }
    },
    "ee932c626a324070adb89adf2918f7fd": {
     "model_module": "@jupyter-widgets/base",
     "model_name": "LayoutModel",
     "state": {
      "_model_module": "@jupyter-widgets/base",
      "_model_module_version": "1.2.0",
      "_model_name": "LayoutModel",
      "_view_count": null,
      "_view_module": "@jupyter-widgets/base",
      "_view_module_version": "1.2.0",
      "_view_name": "LayoutView",
      "align_content": null,
      "align_items": null,
      "align_self": null,
      "border": null,
      "bottom": null,
      "display": null,
      "flex": null,
      "flex_flow": null,
      "grid_area": null,
      "grid_auto_columns": null,
      "grid_auto_flow": null,
      "grid_auto_rows": null,
      "grid_column": null,
      "grid_gap": null,
      "grid_row": null,
      "grid_template_areas": null,
      "grid_template_columns": null,
      "grid_template_rows": null,
      "height": null,
      "justify_content": null,
      "justify_items": null,
      "left": null,
      "margin": null,
      "max_height": null,
      "max_width": null,
      "min_height": null,
      "min_width": null,
      "object_fit": null,
      "object_position": null,
      "order": null,
      "overflow": null,
      "overflow_x": null,
      "overflow_y": null,
      "padding": null,
      "right": null,
      "top": null,
      "visibility": null,
      "width": null
     }
    },
    "f68304d4cbb8431fb318dea42da2cf53": {
     "model_module": "@jupyter-widgets/controls",
     "model_name": "SliderStyleModel",
     "state": {
      "_model_module": "@jupyter-widgets/controls",
      "_model_module_version": "1.5.0",
      "_model_name": "SliderStyleModel",
      "_view_count": null,
      "_view_module": "@jupyter-widgets/base",
      "_view_module_version": "1.2.0",
      "_view_name": "StyleView",
      "description_width": "",
      "handle_color": null
     }
    },
    "f814ca096b284fb7ab6a296cef40f4fe": {
     "model_module": "@jupyter-widgets/controls",
     "model_name": "IntSliderModel",
     "state": {
      "_dom_classes": [],
      "_model_module": "@jupyter-widgets/controls",
      "_model_module_version": "1.5.0",
      "_model_name": "IntSliderModel",
      "_view_count": null,
      "_view_module": "@jupyter-widgets/controls",
      "_view_module_version": "1.5.0",
      "_view_name": "IntSliderView",
      "continuous_update": true,
      "description": "r",
      "description_tooltip": null,
      "disabled": false,
      "layout": "IPY_MODEL_d4368bcd3ade436898e849485a49cf29",
      "max": 9,
      "min": 0,
      "orientation": "horizontal",
      "readout": true,
      "readout_format": "d",
      "step": 1,
      "style": "IPY_MODEL_8de3d14b64284e1daf09213f61252798",
      "value": 4
     }
    },
    "fe011cf5d60b448fabd6b5bd0d34eb3b": {
     "model_module": "@jupyter-widgets/base",
     "model_name": "LayoutModel",
     "state": {
      "_model_module": "@jupyter-widgets/base",
      "_model_module_version": "1.2.0",
      "_model_name": "LayoutModel",
      "_view_count": null,
      "_view_module": "@jupyter-widgets/base",
      "_view_module_version": "1.2.0",
      "_view_name": "LayoutView",
      "align_content": null,
      "align_items": null,
      "align_self": null,
      "border": null,
      "bottom": null,
      "display": null,
      "flex": null,
      "flex_flow": null,
      "grid_area": null,
      "grid_auto_columns": null,
      "grid_auto_flow": null,
      "grid_auto_rows": null,
      "grid_column": null,
      "grid_gap": null,
      "grid_row": null,
      "grid_template_areas": null,
      "grid_template_columns": null,
      "grid_template_rows": null,
      "height": null,
      "justify_content": null,
      "justify_items": null,
      "left": null,
      "margin": null,
      "max_height": null,
      "max_width": null,
      "min_height": null,
      "min_width": null,
      "object_fit": null,
      "object_position": null,
      "order": null,
      "overflow": null,
      "overflow_x": null,
      "overflow_y": null,
      "padding": null,
      "right": null,
      "top": null,
      "visibility": null,
      "width": null
     }
    }
   }
  }
 },
 "nbformat": 4,
 "nbformat_minor": 4
}
